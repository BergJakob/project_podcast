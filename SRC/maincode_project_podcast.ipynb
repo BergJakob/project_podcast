{
  "cells": [
    {
      "cell_type": "markdown",
      "metadata": {
        "id": "esP50IJ8gdRv"
      },
      "source": [
        "# 1. Data Retrieval & Management"
      ]
    },
    {
      "cell_type": "markdown",
      "metadata": {
        "id": "R4koHn2Jg6Nj"
      },
      "source": [
        "## 1.1 Data Lage der Nation"
      ]
    },
    {
      "cell_type": "code",
      "execution_count": 1,
      "metadata": {
        "id": "eyPWy4_3E-9P"
      },
      "outputs": [],
      "source": [
        "import glob\n",
        "path = '/content/ldn_txt/*txt'\n",
        "\n",
        "lage_text = []\n",
        "\n",
        "for filename in glob.glob(path):\n",
        "    with open(filename, 'r', errors='ignore', encoding = \"utf-8\") as file:\n",
        "        text = file.read()\n",
        "        lage_text.append(text)"
      ]
    },
    {
      "cell_type": "code",
      "execution_count": 2,
      "metadata": {
        "id": "QMulwvd8P3tx"
      },
      "outputs": [],
      "source": [
        "lage_text = ', '.join(lage_text)"
      ]
    },
    {
      "cell_type": "code",
      "execution_count": 3,
      "metadata": {
        "id": "FRpqJTPWQU4s"
      },
      "outputs": [],
      "source": [
        "lage_text = lage_text.replace('\\n', '')"
      ]
    },
    {
      "cell_type": "markdown",
      "metadata": {
        "id": "01Q0ZGS7ftkI"
      },
      "source": [
        "## 1.2 Data Spiegel Online (Webcrawling)"
      ]
    },
    {
      "cell_type": "code",
      "execution_count": null,
      "metadata": {
        "id": "1LBPOxMNKvdF"
      },
      "outputs": [],
      "source": [
        "import requests\n",
        "from bs4 import BeautifulSoup\n",
        "import pandas as pd"
      ]
    },
    {
      "cell_type": "code",
      "execution_count": null,
      "metadata": {
        "id": "WlI_dn6sEllE"
      },
      "outputs": [],
      "source": [
        "url = \"https://www.faz.de/\"\n",
        "\n",
        "response = requests.get(url)\n",
        "\n",
        "soup = BeautifulSoup(response.content, \"html.parser\")\n",
        "\n",
        "links = soup.find_all(\"a\")\n",
        "\n",
        "for link in links:\n",
        "    href = link.get(\"href\")\n",
        "    if href.startswith(\"http\"):\n",
        "        print(href)"
      ]
    },
    {
      "cell_type": "code",
      "execution_count": null,
      "metadata": {
        "id": "BUjruUNWh2ar"
      },
      "outputs": [],
      "source": [
        "links = [\"https://www.spiegel.de/schlagzeilen/\",\n",
        "            \"https://www.spiegel.de/fuermich/\",\n",
        "            \"https://www.spiegel.de/plus/\",\n",
        "            \"https://www.spiegel.de/magazine\",\n",
        "            \"https://www.spiegel.de/thema/ukraine_konflikt/\",\n",
        "            \"https://www.spiegel.de/thema/coronavirus/\",\n",
        "            \"https://www.spiegel.de/thema/klimawandel/\",\n",
        "            \"https://www.spiegel.de/politik/deutschland/\",\n",
        "            \"https://www.spiegel.de/ausland/\",\n",
        "            \"https://www.spiegel.de/panorama/\",\n",
        "            \"https://www.spiegel.de/sport/\",\n",
        "            \"https://www.spiegel.de/wirtschaft/\",\n",
        "            \"https://www.spiegel.de/wissenschaft/\",\n",
        "            \"https://www.spiegel.de/netzwelt/\",\n",
        "            \"https://www.spiegel.de/kultur/\",\n",
        "            \"https://www.spiegel.de/thema/leben/\",\n",
        "            \"https://www.spiegel.de/karriere/\",\n",
        "            \"https://www.spiegel.de/start/\",\n",
        "            \"https://www.spiegel.de/geschichte/\",\n",
        "            \"https://www.spiegel.de/auto/\",\n",
        "            \"https://www.spiegel.de/tests/\",\n",
        "            \"https://www.spiegel.de/audio/\",\n",
        "            \"https://www.spiegel.de/video/\",\n",
        "            \"https://www.spiegel.de/international/\"]\n",
        "\n",
        "soup = []  \n",
        "\n",
        "for link in links:\n",
        "    response = requests.get(link)\n",
        "    soup.append(BeautifulSoup(response.content, \"html.parser\"))\n",
        "    "
      ]
    },
    {
      "cell_type": "code",
      "execution_count": null,
      "metadata": {
        "id": "0ppDThprgZQE"
      },
      "outputs": [],
      "source": [
        "article_links = []\n",
        "\n",
        "for site in soup:\n",
        "  articles = site.find_all(\"div\", {\"data-block-el\": \"articleTeaser\"})\n",
        "  for article in articles:\n",
        "    try:\n",
        "      article_links.append(article.find(\"a\")[\"href\"])\n",
        "    except: \n",
        "      print(\"XX\")\n",
        "\n",
        "article_links"
      ]
    },
    {
      "cell_type": "code",
      "execution_count": null,
      "metadata": {
        "id": "fLjw9gDHAFrD"
      },
      "outputs": [],
      "source": [
        "len(article_links)"
      ]
    },
    {
      "cell_type": "code",
      "execution_count": null,
      "metadata": {
        "id": "brjRCRn-AYB_"
      },
      "outputs": [],
      "source": [
        "textblocks = []\n",
        "\n",
        "for link in article_links:\n",
        "    response = requests.get(link)\n",
        "    textblocks.append(BeautifulSoup(response.content, \"html.parser\").find_all([\"p\"]))"
      ]
    },
    {
      "cell_type": "code",
      "execution_count": null,
      "metadata": {
        "id": "ur_n7dQoDKFU"
      },
      "outputs": [],
      "source": [
        "len(textblocks)"
      ]
    },
    {
      "cell_type": "code",
      "execution_count": null,
      "metadata": {
        "id": "tWlIKDPBQkK5"
      },
      "outputs": [],
      "source": [
        "articleList = []\n",
        "\n",
        "for article2 in textblocks:   \n",
        "\n",
        "  text = \"\"\n",
        "\n",
        "  for articleBlock in article2:\n",
        "    text = text + \" \" + articleBlock.text\n",
        "  articleList.append(text)\n",
        "\n",
        "df_spiegel_artikel = pd.DataFrame({\"text\": articleList})"
      ]
    },
    {
      "cell_type": "code",
      "execution_count": null,
      "metadata": {
        "id": "7Yv8SStzQpDH"
      },
      "outputs": [],
      "source": [
        "df_spiegel_artikel"
      ]
    },
    {
      "cell_type": "code",
      "execution_count": null,
      "metadata": {
        "id": "GiZPy2Gd44hZ"
      },
      "outputs": [],
      "source": [
        "df_spiegel_artikel.to_csv('spiegel_artikel.csv', index=False)"
      ]
    },
    {
      "cell_type": "code",
      "execution_count": null,
      "metadata": {
        "id": "OHhdq0YmFhKh"
      },
      "outputs": [],
      "source": [
        "spiegel_text = \" \".join(df_spiegel_artikel['text'].astype(str))"
      ]
    },
    {
      "cell_type": "code",
      "execution_count": null,
      "metadata": {
        "id": "CSew4Z7SFhKi"
      },
      "outputs": [],
      "source": [
        "spiegel_text = spiegel_text.replace('\\n', '')"
      ]
    },
    {
      "cell_type": "code",
      "execution_count": null,
      "metadata": {
        "id": "RtEy5uK0FhKj"
      },
      "outputs": [],
      "source": [
        "spiegel_text"
      ]
    },
    {
      "cell_type": "markdown",
      "metadata": {
        "id": "ZEqEZX5eimPH"
      },
      "source": [
        "## 1.3 Data FAZ Online (Webcrawling)"
      ]
    },
    {
      "cell_type": "code",
      "execution_count": null,
      "metadata": {
        "id": "nSc4Kl57Noja"
      },
      "outputs": [],
      "source": [
        "import requests\n",
        "from bs4 import BeautifulSoup\n",
        "import pandas as pd\n",
        "\n",
        "url = \"https://www.faz.net/aktuell/\"\n",
        "\n",
        "response = requests.get(url)\n",
        "\n",
        "soup = BeautifulSoup(response.content, \"html.parser\")\n",
        "\n",
        "links = soup.find_all(\"a\")\n",
        "\n",
        "for link in links:\n",
        "    href = link.get(\"href\")\n",
        "    if href.startswith(\"http\"):\n",
        "        print(href)"
      ]
    },
    {
      "cell_type": "code",
      "execution_count": null,
      "metadata": {
        "id": "_af4kZOcRJCD"
      },
      "outputs": [],
      "source": [
        "links = [\"https://www.faz.net/aktuell/\",\n",
        "         \"https://www.faz.net/aktuell/ukraine-konflikt/\",\n",
        "         \"https://www.faz.net/aktuell/politik/\",\n",
        "         \"https://www.faz.net/aktuell/wirtschaft/\",\n",
        "         \"https://www.faz.net/aktuell/finanzen/\",\n",
        "         \"https://www.faz.net/aktuell/feuilleton/\",\n",
        "         \"https://www.faz.net/aktuell/karriere-hochschule/\",\n",
        "         \"https://www.faz.net/aktuell/sport/\",\n",
        "         \"https://www.faz.net/aktuell/gesellschaft/\",\n",
        "         \"https://www.faz.net/aktuell/stil/\",\n",
        "         \"https://www.faz.net/aktuell/rhein-main/\",\n",
        "         \"https://www.faz.net/aktuell/technik-motor/\",\n",
        "         \"https://www.faz.net/aktuell/wissen/\",\n",
        "         \"https://www.faz.net/aktuell/politik/inland/\",\n",
        "         \"https://www.faz.net/aktuell/politik/ausland/\",\n",
        "         \"https://www.faz.net/aktuell/politik/politische-buecher/\",\n",
        "         \"https://www.faz.net/aktuell/politik/geschichte/\",\n",
        "         \"https://www.faz.net/aktuell/wirtschaft/historische-hyperinflation/\",\n",
        "         \"https://www.faz.net/aktuell/wirtschaft/digitec/\",\n",
        "         \"https://www.faz.net/aktuell/wirtschaft/unternehmen/\",\n",
        "         \"https://www.faz.net/aktuell/wirtschaft/wohnen/\",\n",
        "         \"https://www.faz.net/aktuell/wirtschaft/auto-verkehr/\",\n",
        "         \"https://www.faz.net/aktuell/wirtschaft/klima-nachhaltigkeit/\",\n",
        "         \"https://www.faz.net/aktuell/wirtschaft/arm-und-reich/\",\n",
        "         \"https://www.faz.net/aktuell/wirtschaft/schneller-schlau/\",\n",
        "         \"https://www.faz.net/aktuell/wirtschaft/wirtschaftswissen/\",\n",
        "         \"https://www.faz.net/aktuell/finanzen/meine-finanzen/\",\n",
        "         \"https://www.faz.net/aktuell/finanzen/finanzmarkt/\",\n",
        "         \"https://www.faz.net/aktuell/finanzen/boersen-maerkte/\",\n",
        "         \"https://www.faz.net/aktuell/feuilleton/debatten/\",\n",
        "         \"https://www.faz.net/aktuell/feuilleton/debatten/muslimisch-juedisches-abendbrot/\",\n",
        "         \"https://www.faz.net/aktuell/feuilleton/debatten/junge-koepfe/\",\n",
        "         \"https://www.faz.net/aktuell/feuilleton/buecher/\",\n",
        "         \"https://www.faz.net/aktuell/feuilleton/buecher/comic-kolumne/\",\n",
        "         \"https://www.faz.net/aktuell/feuilleton/medien/\",\n",
        "         \"https://www.faz.net/aktuell/feuilleton/kino/\",\n",
        "         \"https://www.faz.net/aktuell/feuilleton/pop/\",\n",
        "         \"https://www.faz.net/aktuell/feuilleton/buehne-und-konzert/\",\n",
        "         \"https://www.faz.net/aktuell/feuilleton/kunst-und-architektur/\",\n",
        "         \"https://www.faz.net/aktuell/feuilleton/kunstmarkt/\",\n",
        "         \"https://www.faz.net/aktuell/feuilleton/familie/\",\n",
        "         \"https://www.faz.net/aktuell/karriere-hochschule/buero-co/\",\n",
        "         \"https://www.faz.net/aktuell/karriere-hochschule/hoersaal/\",\n",
        "         \"https://www.faz.net/aktuell/karriere-hochschule/klassenzimmer/\",\n",
        "         \"https://www.faz.net/aktuell/karriere-hochschule/die-karrierefrage/\",\n",
        "         \"https://www.faz.net/aktuell/sport/fussball/\",\n",
        "         \"https://www.faz.net/aktuell/sport/fussball/bundesliga/\",\n",
        "         \"https://www.faz.net/aktuell/sport/fussball/champions-league/\",\n",
        "         \"https://www.faz.net/aktuell/sport/formel-1/\",\n",
        "         \"https://www.faz.net/aktuell/sport/mehr-sport/\",\n",
        "         \"https://www.faz.net/aktuell/sport/wintersport/\",\n",
        "         \"https://www.faz.net/aktuell/sport/rhein-main-sport/\",\n",
        "         \"https://www.faz.net/aktuell/sport/rhein-main-sport/eintracht-frankfurt/\",\n",
        "         \"https://www.faz.net/aktuell/sport/sportpolitik/\",\n",
        "         \"https://www.faz.net/aktuell/sport/sport-tipps/\",\n",
        "         \"https://www.faz.net/faz-net-services/sport-live-ticker/\",\n",
        "         \"https://www.faz.net/aktuell/gesellschaft/menschen/\",\n",
        "         \"https://www.faz.net/aktuell/gesellschaft/kriminalitaet/\",\n",
        "         \"https://www.faz.net/aktuell/gesellschaft/ungluecke/\",\n",
        "         \"https://www.faz.net/aktuell/gesellschaft/gesundheit/\",\n",
        "         \"https://www.faz.net/aktuell/gesellschaft/eurovision-song-contest/\",\n",
        "         \"https://www.faz.net/aktuell/gesellschaft/tiere/\",\n",
        "         \"https://www.faz.net/aktuell/gesellschaft/smalltalk/\",\n",
        "         \"https://www.faz.net/aktuell/gesellschaft/jugend-schreibt/\",\n",
        "         \"https://www.faz.net/aktuell/stil/mode-design/\",\n",
        "         \"https://www.faz.net/aktuell/stil/essen-trinken/\",\n",
        "         \"https://www.faz.net/aktuell/stil/leib-seele/\",\n",
        "         \"https://www.faz.net/aktuell/stil/trends-nischen/\",\n",
        "         \"https://www.faz.net/aktuell/stil/quarterly/\",\n",
        "         \"https://www.faz.net/aktuell/rhein-main/frankfurt/\",\n",
        "         \"https://www.faz.net/aktuell/rhein-main/frankfurt/ob-wahl-frankfurt-am-main-2023/\",\n",
        "         \"https://www.faz.net/aktuell/rhein-main/region-und-hessen/\",\n",
        "         \"https://www.faz.net/aktuell/rhein-main/wirtschaft/\",\n",
        "         \"https://www.faz.net/aktuell/rhein-main/kultur/\",\n",
        "         \"https://www.faz.net/aktuell/technik-motor/motor/\",\n",
        "         \"https://www.faz.net/aktuell/technik-motor/elektromobilitaet/\",\n",
        "         \"https://www.faz.net/aktuell/technik-motor/technik/\",\n",
        "         \"https://www.faz.net/aktuell/technik-motor/digital/\",\n",
        "         \"https://www.faz.net/aktuell/technik-motor/energie/\",\n",
        "         \"https://www.faz.net/aktuell/wissen/medizin-ernaehrung/\",\n",
        "         \"https://www.faz.net/aktuell/wissen/krebsmedizin/\",\n",
        "         \"https://www.faz.net/aktuell/wissen/weltraum/\",\n",
        "         \"https://www.faz.net/aktuell/wissen/leben-gene/\",\n",
        "         \"https://www.faz.net/aktuell/wissen/erde-klima/\",\n",
        "         \"https://www.faz.net/aktuell/wissen/physik-mehr/\",\n",
        "         \"https://www.faz.net/aktuell/wissen/archaeologie-altertum/\",\n",
        "         \"https://www.faz.net/aktuell/wissen/geist-soziales/\",\n",
        "         \"https://www.faz.net/aktuell/wissen/forschung-politik/\",\n",
        "         \"https://www.faz.net/aktuell/wissen/ab-in-die-botanik/\",\n",
        "         \"https://www.faz.net/aktuell/wissen/netzraetsel/\",\n",
        "         ]\n",
        "         \n",
        "soup = []  \n",
        "\n",
        "for link in links:\n",
        "    response = requests.get(link)\n",
        "    soup.append(BeautifulSoup(response.content, \"html.parser\"))  "
      ]
    },
    {
      "cell_type": "code",
      "execution_count": null,
      "metadata": {
        "id": "PY0RDhl8iE5i"
      },
      "outputs": [],
      "source": [
        "article_links = []\n",
        "\n",
        "for site in soup:\n",
        "  articles = site.find_all(\"div\", {\"class\": \"o-Grid\"})\n",
        "  for article in articles:\n",
        "    try:\n",
        "      article_links.append(article.find(\"a\")[\"href\"])\n",
        "    except: \n",
        "      print(\"XX\")\n",
        "\n",
        "article_links"
      ]
    },
    {
      "cell_type": "code",
      "execution_count": null,
      "metadata": {
        "id": "dVJEW20diGtC"
      },
      "outputs": [],
      "source": [
        "len(article_links)"
      ]
    },
    {
      "cell_type": "code",
      "execution_count": null,
      "metadata": {
        "id": "OMtlcNLfk9cI"
      },
      "outputs": [],
      "source": [
        "textblocks = []\n",
        "\n",
        "for link in article_links:\n",
        "  try:\n",
        "    response = requests.get(link)\n",
        "    textblocks.append(BeautifulSoup(response.content, \"html.parser\").find_all([\"p\"]))\n",
        "  except (requests.exceptions.RequestException, ValueError):\n",
        "        print(f\"Skipping invalid link: {link}\")\n",
        "        continue"
      ]
    },
    {
      "cell_type": "code",
      "execution_count": null,
      "metadata": {
        "id": "xBZHoE-4k9cJ"
      },
      "outputs": [],
      "source": [
        "len(textblocks)"
      ]
    },
    {
      "cell_type": "code",
      "execution_count": null,
      "metadata": {
        "id": "HdcK_Cwqk9cK"
      },
      "outputs": [],
      "source": [
        "articleList = []\n",
        "\n",
        "for article2 in textblocks:\n",
        "  text = \"\"\n",
        "  for articleBlock in article2:\n",
        "    text = text + \" \" + articleBlock.text\n",
        "\n",
        "  articleList.append(text)\n",
        "\n",
        "df_faz_artikel = pd.DataFrame({\"text\": articleList})"
      ]
    },
    {
      "cell_type": "code",
      "execution_count": null,
      "metadata": {
        "id": "JYYkbPY-k9cK"
      },
      "outputs": [],
      "source": [
        "df_faz_artikel.head()"
      ]
    },
    {
      "cell_type": "code",
      "execution_count": null,
      "metadata": {
        "id": "Emc3yho4Fxy8"
      },
      "outputs": [],
      "source": [
        "df_faz_artikel.to_csv('faz_artikel.csv', index=False)"
      ]
    },
    {
      "cell_type": "code",
      "execution_count": null,
      "metadata": {
        "id": "fowtjsFWFIiS"
      },
      "outputs": [],
      "source": [
        "faz_text = \" \".join(df_faz_artikel['text'].astype(str))"
      ]
    },
    {
      "cell_type": "code",
      "execution_count": null,
      "metadata": {
        "id": "q4QU1U_VFRJ2"
      },
      "outputs": [],
      "source": [
        "faz_text = faz_text.replace('\\n', '')"
      ]
    },
    {
      "cell_type": "code",
      "execution_count": null,
      "metadata": {
        "id": "KDwmYXOjGH_a"
      },
      "outputs": [],
      "source": [
        "faz_text"
      ]
    },
    {
      "cell_type": "markdown",
      "metadata": {
        "id": "esI9GiupnTV8"
      },
      "source": [
        "# 2. Finetuning & Modellauswahl"
      ]
    },
    {
      "cell_type": "markdown",
      "metadata": {
        "id": "ILdiiZron6_a"
      },
      "source": [
        "## 2.1 Bert-Multilingual-Modell (Modell 1)"
      ]
    },
    {
      "cell_type": "code",
      "execution_count": null,
      "metadata": {
        "id": "hy9QGPf-fcw3"
      },
      "outputs": [],
      "source": [
        "!pip install datasets transformers\n",
        "!pip install accelerate"
      ]
    },
    {
      "cell_type": "code",
      "execution_count": null,
      "metadata": {
        "id": "YHHbPRapeV1X"
      },
      "outputs": [],
      "source": [
        "pip install torch"
      ]
    },
    {
      "cell_type": "code",
      "execution_count": null,
      "metadata": {
        "id": "NveXGcBefeFd"
      },
      "outputs": [],
      "source": [
        "from datasets import load_dataset\n",
        "from transformers import pipeline\n",
        "from transformers import Trainer, TrainingArguments\n",
        "from transformers import AutoTokenizer, DataCollatorWithPadding\n",
        "from transformers import AutoModelForSequenceClassification\n",
        "from sklearn.metrics import accuracy_score, f1_score, precision_score, recall_score\n",
        "import torch\n",
        "import pandas as pd"
      ]
    },
    {
      "cell_type": "code",
      "execution_count": null,
      "metadata": {
        "id": "AMATCleiiFFQ"
      },
      "outputs": [],
      "source": [
        "tweet_dataset = pd.read_csv('train_data_annoted.csv', on_bad_lines= \"warn\", sep=';')"
      ]
    },
    {
      "cell_type": "code",
      "execution_count": null,
      "metadata": {
        "id": "kYBW55wkCke2"
      },
      "outputs": [],
      "source": [
        "tweet_dataset.head()"
      ]
    },
    {
      "cell_type": "code",
      "execution_count": null,
      "metadata": {
        "id": "jaEgaBSeayKl"
      },
      "outputs": [],
      "source": [
        "tweet_dataset.drop('a', axis=1, inplace=True)\n",
        "tweet_dataset.drop('b', axis=1, inplace=True)\n",
        "tweet_dataset.drop('Sentiment', axis=1, inplace=True)\n",
        "tweet_dataset.drop('Sentiment1', axis=1, inplace=True)\n",
        "tweet_dataset.drop('Sentiment2', axis=1, inplace=True)\n",
        "tweet_dataset.drop('id', axis=1, inplace=True)"
      ]
    },
    {
      "cell_type": "code",
      "execution_count": null,
      "metadata": {
        "id": "kLSBR3R6bfw2"
      },
      "outputs": [],
      "source": [
        "tweet_dataset = tweet_dataset.rename(columns={'Embedded_text': 'text', 'majority_sentiment': 'label'})"
      ]
    },
    {
      "cell_type": "code",
      "execution_count": null,
      "metadata": {
        "id": "lGZJ2j_eZ9jL"
      },
      "outputs": [],
      "source": [
        "tweet_dataset.head()"
      ]
    },
    {
      "cell_type": "code",
      "execution_count": null,
      "metadata": {
        "id": "okpg6Kf9ZJsc"
      },
      "outputs": [],
      "source": [
        "from sklearn.model_selection import train_test_split\n",
        "\n",
        "train_df, test_df = train_test_split(tweet_dataset, test_size=0.2, random_state = 42)"
      ]
    },
    {
      "cell_type": "code",
      "execution_count": null,
      "metadata": {
        "id": "-Vw90oIDZTMT"
      },
      "outputs": [],
      "source": [
        "from datasets import DatasetDict, Dataset\n",
        "\n",
        "train_dataset = Dataset.from_pandas(train_df)\n",
        "test_dataset = Dataset.from_pandas(test_df)\n",
        "\n",
        "dataset_dict = DatasetDict({'train': train_dataset, 'test': test_dataset})"
      ]
    },
    {
      "cell_type": "code",
      "execution_count": null,
      "metadata": {
        "id": "kqkU90c-ixqu"
      },
      "outputs": [],
      "source": [
        "checkpoint = \"bert-base-multilingual-cased\"\n",
        "tokenizer = AutoTokenizer.from_pretrained(checkpoint)"
      ]
    },
    {
      "cell_type": "code",
      "execution_count": null,
      "metadata": {
        "id": "h75-Mtz0kdAM"
      },
      "outputs": [],
      "source": [
        "def tokenize_function(sample):\n",
        "  return tokenizer(sample[\"text\"], truncation=True)"
      ]
    },
    {
      "cell_type": "code",
      "execution_count": null,
      "metadata": {
        "id": "70Y0SFi_khw5"
      },
      "outputs": [],
      "source": [
        "tokenized_datasets = dataset_dict.map(tokenize_function, batched=True)"
      ]
    },
    {
      "cell_type": "code",
      "execution_count": null,
      "metadata": {
        "id": "yZVi8NUJkoYu"
      },
      "outputs": [],
      "source": [
        "data_collator = DataCollatorWithPadding(tokenizer=tokenizer)"
      ]
    },
    {
      "cell_type": "code",
      "execution_count": null,
      "metadata": {
        "id": "OhC75xt_krHQ"
      },
      "outputs": [],
      "source": [
        "model = AutoModelForSequenceClassification.from_pretrained(checkpoint, num_labels=3) "
      ]
    },
    {
      "cell_type": "code",
      "execution_count": null,
      "metadata": {
        "id": "toPSakb3lDls"
      },
      "outputs": [],
      "source": [
        "def compute_metrics(pred):\n",
        "  labels = pred.label_ids\n",
        "  preds = pred.predictions.argmax(-1)\n",
        "  f1 = f1_score(labels, preds, average=\"macro\")\n",
        "  acc = accuracy_score(labels, preds)\n",
        "  precision = precision_score(labels, preds, average=\"macro\")\n",
        "  recall = recall_score(labels, preds, average=\"macro\")\n",
        "  return {\"precision\": precision, \"recall\": recall, \"acc\": acc, \"f1\": f1}"
      ]
    },
    {
      "cell_type": "code",
      "execution_count": null,
      "metadata": {
        "id": "Cjc-SRj7lLPo"
      },
      "outputs": [],
      "source": [
        "batch_size = 32\n",
        "logging_steps = len(tokenized_datasets[\"train\"]) // batch_size\n",
        "training_args = TrainingArguments(output_dir = model_name, \n",
        "                                  num_train_epochs = 4,\n",
        "                                  learning_rate = 3e-5,\n",
        "                                  per_device_train_batch_size = batch_size,\n",
        "                                  per_device_eval_batch_size = batch_size,\n",
        "                                  evaluation_strategy=\"epoch\",\n",
        "                                  disable_tqdm = False,\n",
        "                                  logging_steps = logging_steps,\n",
        "                                  log_level=\"error\")"
      ]
    },
    {
      "cell_type": "code",
      "execution_count": null,
      "metadata": {
        "id": "HxlJW-3hlz_u"
      },
      "outputs": [],
      "source": [
        "trainer = Trainer(\n",
        "    model = model,\n",
        "    args = training_args,\n",
        "    compute_metrics = compute_metrics,\n",
        "    train_dataset=tokenized_datasets[\"train\"], \n",
        "    eval_dataset=tokenized_datasets[\"test\"],\n",
        "    data_collator=data_collator,\n",
        "    tokenizer=tokenizer,\n",
        ")"
      ]
    },
    {
      "cell_type": "code",
      "execution_count": null,
      "metadata": {
        "id": "orVbGfQImGMC"
      },
      "outputs": [],
      "source": [
        "trainer.train()"
      ]
    },
    {
      "cell_type": "code",
      "execution_count": null,
      "metadata": {
        "id": "AZ5fI515mCEI"
      },
      "outputs": [],
      "source": [
        "from google.colab import drive\n",
        "drive.mount('/content/gdrive')"
      ]
    },
    {
      "cell_type": "code",
      "execution_count": null,
      "metadata": {
        "id": "cRYI-kGVnRNH"
      },
      "outputs": [],
      "source": [
        "model.save_pretrained('/content/gdrive/My Drive/BERT/bert-multilingu-finetuned-model')\n",
        "tokenizer.save_pretrained('/content/gdrive/My Drive/BERT/bert-multilingu-finetuned-tokenizer')"
      ]
    },
    {
      "cell_type": "markdown",
      "source": [
        "### Confusion-Matrix"
      ],
      "metadata": {
        "id": "hHvuL3nkIzxZ"
      }
    },
    {
      "cell_type": "code",
      "execution_count": null,
      "metadata": {
        "id": "85nI5-yEbNsc"
      },
      "outputs": [],
      "source": [
        "device = torch.device('cuda:0' if torch.cuda.is_available() else 'cpu')\n",
        "\n",
        "tokens = tokenizer(list(test_df['text']), padding=True, truncation=True, return_tensors='pt')\n",
        "\n",
        "input_ids = tokens['input_ids'].to(device)\n",
        "attention_mask = tokens['attention_mask'].to(device)\n",
        "\n",
        "with torch.no_grad():\n",
        "    outputs = model(input_ids, attention_mask=attention_mask)\n",
        "    logits = outputs.logits\n",
        "    predictions = torch.argmax(logits, dim=1)\n",
        "\n",
        "test_df['predicted_label'] = predictions.tolist()"
      ]
    },
    {
      "cell_type": "code",
      "source": [
        "import seaborn as sns\n",
        "import matplotlib.pyplot as plt\n",
        "from sklearn.metrics import confusion_matrix\n",
        "\n",
        "true_labels = test_df['label']\n",
        "predicted_labels = test_df['predicted_label']\n",
        "\n",
        "cm = confusion_matrix(true_labels, predicted_labels)\n",
        "\n",
        "total = float(sum(sum(cm)))\n",
        "percentages = [[str(round(value/total*100, 2))+'%' for value in row] for row in cm]\n",
        "\n",
        "labels = ['0', '1', '2']\n",
        "\n",
        "sns.heatmap(cm, annot=percentages, fmt='', cmap='Blues', xticklabels=labels, yticklabels=labels)\n",
        "\n",
        "plt.xlabel(\"Predicted\")\n",
        "plt.ylabel(\"True\")\n",
        "plt.title(\"Confusion Matrix - Modell 1\")\n",
        "\n",
        "plt.savefig('confusion_matrix_model_1.png', dpi=300, bbox_inches='tight')\n",
        "plt.show()"
      ],
      "metadata": {
        "id": "DsytOS9ddW_k"
      },
      "execution_count": null,
      "outputs": []
    },
    {
      "cell_type": "markdown",
      "metadata": {
        "id": "5Wopmi3TuqDN"
      },
      "source": [
        "## 2.2 German-Sentiment-Bert-Modell (Modell 2)\n"
      ]
    },
    {
      "cell_type": "code",
      "execution_count": null,
      "metadata": {
        "id": "LvFNY34yyCt4"
      },
      "outputs": [],
      "source": [
        "from datasets import load_dataset\n",
        "from transformers import pipeline\n",
        "from transformers import Trainer, TrainingArguments\n",
        "from transformers import AutoTokenizer, DataCollatorWithPadding\n",
        "from transformers import AutoModelForSequenceClassification\n",
        "from sklearn.metrics import accuracy_score, f1_score, precision_score, recall_score"
      ]
    },
    {
      "cell_type": "code",
      "execution_count": null,
      "metadata": {
        "id": "8Hjmp4RPyzZK"
      },
      "outputs": [],
      "source": [
        "checkpoint = \"oliverguhr/german-sentiment-bert\"\n",
        "tokenizer = AutoTokenizer.from_pretrained(checkpoint)"
      ]
    },
    {
      "cell_type": "code",
      "execution_count": null,
      "metadata": {
        "id": "KYElx7ZkyzZL"
      },
      "outputs": [],
      "source": [
        "def tokenize_function(sample):\n",
        "  return tokenizer(sample[\"text\"], truncation=True)"
      ]
    },
    {
      "cell_type": "code",
      "execution_count": null,
      "metadata": {
        "id": "IPDTHeIPyzZM"
      },
      "outputs": [],
      "source": [
        "tokenized_datasets = dataset_dict.map(tokenize_function, batched=True)"
      ]
    },
    {
      "cell_type": "code",
      "execution_count": null,
      "metadata": {
        "id": "39pPBMyXyzZM"
      },
      "outputs": [],
      "source": [
        "data_collator = DataCollatorWithPadding(tokenizer=tokenizer)"
      ]
    },
    {
      "cell_type": "code",
      "execution_count": null,
      "metadata": {
        "id": "PFSrfmgayzZN"
      },
      "outputs": [],
      "source": [
        "model = AutoModelForSequenceClassification.from_pretrained(checkpoint, num_labels=3)"
      ]
    },
    {
      "cell_type": "code",
      "execution_count": null,
      "metadata": {
        "id": "qtewL4ZDyzZO"
      },
      "outputs": [],
      "source": [
        "def compute_metrics(pred):\n",
        "  labels = pred.label_ids\n",
        "  preds = pred.predictions.argmax(-1)\n",
        "  f1 = f1_score(labels, preds, average=\"macro\")\n",
        "  acc = accuracy_score(labels, preds)\n",
        "  precision = precision_score(labels, preds, average=\"macro\")\n",
        "  recall = recall_score(labels, preds, average=\"macro\")\n",
        "  return {\"precision\": precision, \"recall\": recall, \"acc\": acc, \"f1\": f1}"
      ]
    },
    {
      "cell_type": "code",
      "execution_count": null,
      "metadata": {
        "id": "GWO6ucoZyzZP"
      },
      "outputs": [],
      "source": [
        "batch_size = 32\n",
        "logging_steps = len(tokenized_datasets[\"train\"]) // batch_size\n",
        "training_args = TrainingArguments(output_dir = model_name, \n",
        "                                  num_train_epochs = 4,\n",
        "                                  learning_rate = 3e-5,\n",
        "                                  per_device_train_batch_size = batch_size,\n",
        "                                  per_device_eval_batch_size = batch_size,\n",
        "                                  evaluation_strategy=\"epoch\",\n",
        "                                  disable_tqdm = False,\n",
        "                                  logging_steps = logging_steps,\n",
        "                                  log_level=\"error\")"
      ]
    },
    {
      "cell_type": "code",
      "execution_count": null,
      "metadata": {
        "id": "cJfpBduDyzZP"
      },
      "outputs": [],
      "source": [
        "trainer = Trainer(\n",
        "    model = model,\n",
        "    args = training_args,\n",
        "    compute_metrics = compute_metrics,\n",
        "    train_dataset=tokenized_datasets[\"train\"], \n",
        "    eval_dataset=tokenized_datasets[\"test\"],\n",
        "    data_collator=data_collator,\n",
        "    tokenizer=tokenizer,\n",
        ")"
      ]
    },
    {
      "cell_type": "code",
      "execution_count": null,
      "metadata": {
        "id": "B1hJaRrKyzZQ"
      },
      "outputs": [],
      "source": [
        "trainer.train()"
      ]
    },
    {
      "cell_type": "code",
      "execution_count": null,
      "metadata": {
        "id": "KLo80gpNn0XV"
      },
      "outputs": [],
      "source": [
        "model.save_pretrained('/content/gdrive/My Drive/BERT/german_sentiment-finetuned-model')\n",
        "tokenizer.save_pretrained('/content/gdrive/My Drive/BERT/german_sentiment-finetuned-tokenizer')"
      ]
    },
    {
      "cell_type": "markdown",
      "source": [
        "### Confusion-Matrix"
      ],
      "metadata": {
        "id": "_2ip_cxWJNkA"
      }
    },
    {
      "cell_type": "code",
      "source": [
        "device = torch.device('cuda:0' if torch.cuda.is_available() else 'cpu')\n",
        "\n",
        "tokens = tokenizer(list(test_df['text']), padding=True, truncation=True, return_tensors='pt')\n",
        "\n",
        "input_ids = tokens['input_ids'].to(device)\n",
        "attention_mask = tokens['attention_mask'].to(device)\n",
        "\n",
        "with torch.no_grad():\n",
        "    outputs = model(input_ids, attention_mask=attention_mask)\n",
        "    logits = outputs.logits\n",
        "    predictions = torch.argmax(logits, dim=1)\n",
        "\n",
        "test_df['predicted_label'] = predictions.tolist()"
      ],
      "metadata": {
        "id": "rBkqdJ4UfCg7"
      },
      "execution_count": null,
      "outputs": []
    },
    {
      "cell_type": "code",
      "source": [
        "import seaborn as sns\n",
        "import matplotlib.pyplot as plt\n",
        "from sklearn.metrics import confusion_matrix\n",
        "\n",
        "true_labels = test_df['label']\n",
        "predicted_labels = test_df['predicted_label']\n",
        "\n",
        "cm = confusion_matrix(true_labels, predicted_labels)\n",
        "\n",
        "total = float(sum(sum(cm)))\n",
        "percentages = [[str(round(value/total*100, 2))+'%' for value in row] for row in cm]\n",
        "\n",
        "labels = ['0', '1', '2']\n",
        "\n",
        "sns.heatmap(cm, annot=percentages, fmt='', cmap='Blues', xticklabels=labels, yticklabels=labels)\n",
        "\n",
        "plt.xlabel(\"Predicted\")\n",
        "plt.ylabel(\"True\")\n",
        "plt.title(\"Confusion Matrix - Modell 2\")\n",
        "\n",
        "plt.savefig('confusion_matrix_model_2.png', dpi=300, bbox_inches='tight')\n",
        "plt.show()"
      ],
      "metadata": {
        "colab": {
          "base_uri": "https://localhost:8080/",
          "height": 315
        },
        "id": "iy8a1VHIeivg",
        "outputId": "fd889484-7808-4b29-d81c-abae38a7546b"
      },
      "execution_count": null,
      "outputs": [
        {
          "output_type": "display_data",
          "data": {
            "text/plain": [
              "<Figure size 432x288 with 2 Axes>"
            ],
            "image/png": "[encoded data removed]"
          },
          "metadata": {}
        }
      ]
    },
    {
      "cell_type": "markdown",
      "metadata": {
        "id": "BK5lpPrfuzBn"
      },
      "source": [
        "## 2.3 Twitter-RoBERTa-Modell (Modell 3)"
      ]
    },
    {
      "cell_type": "code",
      "execution_count": null,
      "metadata": {
        "id": "URJOaf9z0FMo"
      },
      "outputs": [],
      "source": [
        "from datasets import load_dataset\n",
        "from transformers import pipeline\n",
        "from transformers import Trainer, TrainingArguments\n",
        "from transformers import AutoTokenizer, DataCollatorWithPadding\n",
        "from transformers import AutoModelForSequenceClassification\n",
        "from sklearn.metrics import accuracy_score, f1_score, precision_score, recall_score"
      ]
    },
    {
      "cell_type": "code",
      "execution_count": null,
      "metadata": {
        "id": "rguo06ln0FMr"
      },
      "outputs": [],
      "source": [
        "checkpoint = \"citizenlab/twitter-xlm-roberta-base-sentiment-finetunned\"\n",
        "tokenizer = AutoTokenizer.from_pretrained(checkpoint)"
      ]
    },
    {
      "cell_type": "code",
      "execution_count": null,
      "metadata": {
        "id": "_uapn_RZ0FMs"
      },
      "outputs": [],
      "source": [
        "def tokenize_function(sample):\n",
        "  return tokenizer(sample[\"text\"], truncation=True)"
      ]
    },
    {
      "cell_type": "code",
      "execution_count": null,
      "metadata": {
        "id": "qui4iEc10FMs"
      },
      "outputs": [],
      "source": [
        "tokenized_datasets = dataset_dict.map(tokenize_function, batched=True)"
      ]
    },
    {
      "cell_type": "code",
      "execution_count": null,
      "metadata": {
        "id": "Esi6vCYR0FMs"
      },
      "outputs": [],
      "source": [
        "data_collator = DataCollatorWithPadding(tokenizer=tokenizer)"
      ]
    },
    {
      "cell_type": "code",
      "execution_count": null,
      "metadata": {
        "id": "CgYBE6Ot0FMs"
      },
      "outputs": [],
      "source": [
        "\n",
        "model = AutoModelForSequenceClassification.from_pretrained(checkpoint, num_labels=3) "
      ]
    },
    {
      "cell_type": "code",
      "execution_count": null,
      "metadata": {
        "id": "x8pw9Mdq0FMt"
      },
      "outputs": [],
      "source": [
        "def compute_metrics(pred):\n",
        "  labels = pred.label_ids\n",
        "  preds = pred.predictions.argmax(-1)\n",
        "  f1 = f1_score(labels, preds, average=\"macro\")\n",
        "  acc = accuracy_score(labels, preds)\n",
        "  precision = precision_score(labels, preds, average=\"macro\")\n",
        "  recall = recall_score(labels, preds, average=\"macro\")\n",
        "  return {\"precision\": precision, \"recall\": recall, \"acc\": acc, \"f1\": f1}"
      ]
    },
    {
      "cell_type": "code",
      "execution_count": null,
      "metadata": {
        "id": "NmK7RvKV0FMt"
      },
      "outputs": [],
      "source": [
        "batch_size = 32\n",
        "logging_steps = len(tokenized_datasets[\"train\"]) // batch_size\n",
        "model_name = f\"{checkpoint}-finetuned-tweet\"\n",
        "training_args = TrainingArguments(output_dir = model_name, \n",
        "                                  num_train_epochs = 4,\n",
        "                                  learning_rate = 2e-5, \n",
        "                                  per_device_train_batch_size = batch_size,\n",
        "                                  per_device_eval_batch_size = batch_size,\n",
        "                                  evaluation_strategy=\"epoch\", \n",
        "                                  disable_tqdm = False,\n",
        "                                  logging_steps = logging_steps,\n",
        "                                  log_level=\"error\")"
      ]
    },
    {
      "cell_type": "code",
      "execution_count": null,
      "metadata": {
        "id": "o9wHJXvh0FMu"
      },
      "outputs": [],
      "source": [
        "trainer = Trainer(\n",
        "    model = model,\n",
        "    args = training_args,\n",
        "    compute_metrics = compute_metrics,\n",
        "    train_dataset=tokenized_datasets[\"train\"], \n",
        "    eval_dataset=tokenized_datasets[\"test\"],\n",
        "    data_collator=data_collator,\n",
        "    tokenizer=tokenizer,\n",
        ")"
      ]
    },
    {
      "cell_type": "code",
      "execution_count": null,
      "metadata": {
        "id": "-9qFXkyQ0FMv"
      },
      "outputs": [],
      "source": [
        "trainer.train()"
      ]
    },
    {
      "cell_type": "code",
      "execution_count": null,
      "metadata": {
        "id": "QVnmBeHPn_0j"
      },
      "outputs": [],
      "source": [
        "model.save_pretrained('/content/gdrive/My Drive/BERT/twitter_roberta-finetuned-model')\n",
        "tokenizer.save_pretrained('/content/gdrive/My Drive/BERT/twitter_roberta-finetuned-tokenizer')"
      ]
    },
    {
      "cell_type": "markdown",
      "source": [
        "### Confusion-Matrix"
      ],
      "metadata": {
        "id": "Nk-yEShjJhtx"
      }
    },
    {
      "cell_type": "code",
      "execution_count": null,
      "metadata": {
        "id": "j6-irAQg2Mbn"
      },
      "outputs": [],
      "source": [
        "device = torch.device('cuda:0' if torch.cuda.is_available() else 'cpu')\n",
        "\n",
        "tokens = tokenizer(list(test_df['text']), padding=True, truncation=True, return_tensors='pt')\n",
        "\n",
        "input_ids = tokens['input_ids'].to(device)\n",
        "attention_mask = tokens['attention_mask'].to(device)\n",
        "\n",
        "with torch.no_grad():\n",
        "    outputs = model(input_ids, attention_mask=attention_mask)\n",
        "    logits = outputs.logits\n",
        "    predictions = torch.argmax(logits, dim=1)\n",
        "\n",
        "test_df['predicted_label'] = predictions.tolist()\n",
        "\n",
        "test_df.to_csv('classified_lage.csv', index=False)\n"
      ]
    },
    {
      "cell_type": "code",
      "execution_count": null,
      "metadata": {
        "colab": {
          "base_uri": "https://localhost:8080/",
          "height": 315
        },
        "id": "w2vHweG-x_43",
        "outputId": "38665d8a-18df-4a69-f70c-ce2a191e55a3"
      },
      "outputs": [
        {
          "output_type": "display_data",
          "data": {
            "text/plain": [
              "<Figure size 432x288 with 2 Axes>"
            ],
            "image/png": "[encoded data removed]"
          },
          "metadata": {}
        }
      ],
      "source": [
        "import seaborn as sns\n",
        "import matplotlib.pyplot as plt\n",
        "from sklearn.metrics import confusion_matrix\n",
        "\n",
        "true_labels = test_df['label']\n",
        "predicted_labels = test_df['predicted_label']\n",
        "\n",
        "cm = confusion_matrix(true_labels, predicted_labels)\n",
        "\n",
        "total = float(sum(sum(cm)))\n",
        "percentages = [[str(round(value/total*100, 2))+'%' for value in row] for row in cm]\n",
        "\n",
        "labels = ['0', '1', '2']\n",
        "\n",
        "sns.heatmap(cm, annot=percentages, fmt='', cmap='Blues', xticklabels=labels, yticklabels=labels)\n",
        "\n",
        "plt.xlabel(\"Predicted\")\n",
        "plt.ylabel(\"True\")\n",
        "plt.title(\"Confusion Matrix - Modell 3\")\n",
        "\n",
        "plt.savefig('confusion_matrix_model_3.png', dpi=300, bbox_inches='tight')\n",
        "plt.show()"
      ]
    },
    {
      "cell_type": "markdown",
      "metadata": {
        "id": "n0pq0UCJu7cm"
      },
      "source": [
        "# 3. Rule-Based Named-Entity-Recognition"
      ]
    },
    {
      "cell_type": "markdown",
      "metadata": {
        "id": "uRfGhqC5vEPg"
      },
      "source": [
        "## 3.1 RBNER - Lage der Nation\n"
      ]
    },
    {
      "cell_type": "code",
      "execution_count": null,
      "metadata": {
        "id": "MUqKMiHVBvoG"
      },
      "outputs": [],
      "source": [
        "import pandas as pd\n",
        "import spacy\n",
        "from spacy.matcher import Matcher, PhraseMatcher\n",
        "from spacy.pipeline import EntityRuler\n",
        "from spacy import displacy\n",
        "from spacy.lang.de import German\n",
        "from spacy.lang.en import English"
      ]
    },
    {
      "cell_type": "code",
      "execution_count": null,
      "metadata": {
        "id": "ax16vvSZEuK1"
      },
      "outputs": [],
      "source": [
        "import os\n",
        "os.environ['LC_ALL'] = 'en_US.UTF-8'\n",
        "os.environ['LANG'] = 'en_US.UTF-8'"
      ]
    },
    {
      "cell_type": "code",
      "execution_count": null,
      "metadata": {
        "id": "3Meex9yCE_il"
      },
      "outputs": [],
      "source": [
        "import locale\n",
        "def getpreferredencoding(do_setlocale = True):\n",
        "    return \"UTF-8\"\n",
        "locale.getpreferredencoding = getpreferredencoding"
      ]
    },
    {
      "cell_type": "code",
      "execution_count": null,
      "metadata": {
        "id": "yjbxYv9eEBDE"
      },
      "outputs": [],
      "source": [
        "!python -m spacy download de_core_news_sm"
      ]
    },
    {
      "cell_type": "code",
      "execution_count": null,
      "metadata": {
        "id": "qkhUHFfrPizj"
      },
      "outputs": [],
      "source": [
        "len(lage_text)"
      ]
    },
    {
      "cell_type": "code",
      "execution_count": null,
      "metadata": {
        "id": "57KfyQbOBLYf"
      },
      "outputs": [],
      "source": [
        "nlp_german = spacy.load(\"de_core_news_sm\", exclude=\"ner\") \n",
        "nlp_german = German()\n",
        "nlp_german.max_length = 7061119\n",
        "nlp_german.add_pipe('sentencizer')"
      ]
    },
    {
      "cell_type": "code",
      "execution_count": null,
      "metadata": {
        "id": "wuGdtlcOBTGN"
      },
      "outputs": [],
      "source": [
        "german_ruler = nlp_german.add_pipe(\"entity_ruler\", config={\"validate\":True})"
      ]
    },
    {
      "cell_type": "code",
      "execution_count": null,
      "metadata": {
        "id": "RmJVG-DgFAtp"
      },
      "outputs": [],
      "source": [
        "with open('parteien.txt', 'r', encoding='utf-8') as file:\n",
        "    parteien = file.read()\n",
        "    \n",
        "parteien_list = parteien.split(\"\\n\")\n",
        "\n",
        "parteien_list"
      ]
    },
    {
      "cell_type": "code",
      "execution_count": null,
      "metadata": {
        "id": "j5Q25TewFAtq"
      },
      "outputs": [],
      "source": [
        "with open('politiker_innen.txt', 'r', encoding='utf-8') as file:\n",
        "    politiker_innen = file.read()\n",
        "    \n",
        "politiker_innen_list = politiker_innen.split(\"\\n\")    \n",
        "\n",
        "politiker_innen_list"
      ]
    },
    {
      "cell_type": "code",
      "execution_count": null,
      "metadata": {
        "id": "okgERCO78JBy"
      },
      "outputs": [],
      "source": [
        "with open('regierungen.txt', 'r', encoding='utf-8') as file:\n",
        "    regierungen = file.read()\n",
        "    \n",
        "regierungen_list = regierungen.split(\"\\n\")    \n",
        "\n",
        "regierungen_list"
      ]
    },
    {
      "cell_type": "code",
      "execution_count": null,
      "metadata": {
        "id": "05U_Oa_JFAtq"
      },
      "outputs": [],
      "source": [
        "parteien_patterns = [\n",
        "    {\"label\": \"PARTEI\", \"pattern\": str(partei)} for partei in list(nlp_german.pipe(parteien_list))\n",
        "]\n",
        "politiker_innen_patterns = [\n",
        "    {\"label\": \"POLITIKER_IN\", \"pattern\": str(politiker_in)} for politiker_in in list(nlp_german.pipe(politiker_innen_list))\n",
        "]\n",
        "regierungen_patterns = [\n",
        "    {\"label\": \"REGIERUNG\", \"pattern\": str(regierung)} for regierung in list(nlp_german.pipe(regierungen_list))\n",
        "]\n",
        "patterns = parteien_patterns + politiker_innen_patterns + regierungen_patterns\n",
        "patterns"
      ]
    },
    {
      "cell_type": "code",
      "execution_count": null,
      "metadata": {
        "id": "OH-1fgtaCncP"
      },
      "outputs": [],
      "source": [
        "german_ruler.add_patterns(patterns)"
      ]
    },
    {
      "cell_type": "code",
      "execution_count": null,
      "metadata": {
        "id": "B5JvYAtGCoQq"
      },
      "outputs": [],
      "source": [
        "lage_text_processed = nlp_german(lage_text)"
      ]
    },
    {
      "cell_type": "code",
      "source": [
        "len(lage_text_processed)"
      ],
      "metadata": {
        "id": "jR33cQLEnq-O"
      },
      "execution_count": null,
      "outputs": []
    },
    {
      "cell_type": "code",
      "execution_count": null,
      "metadata": {
        "id": "Xok3h-KDV5bJ"
      },
      "outputs": [],
      "source": [
        "entities = [entity.text for entity in lage_text_processed.ents]\n",
        "\n",
        "sentences = []\n",
        "sents_list = list(lage_text_processed.sents)\n",
        "for i, sent in enumerate(sents_list):\n",
        "    if any(ent in sent.text.strip() for ent in entities):\n",
        "        sentences.append(sent.text.strip())\n",
        "\n",
        "df_lage_text = pd.DataFrame(columns=[\"Sentence\", \"Entity\"])\n",
        "\n",
        "for sentence in sentences:\n",
        "    for entity in entities:\n",
        "        if entity in sentence:\n",
        "            df_lage_text = df_lage_text.append({\"Sentence\": sentence, \"Entity\": entity}, ignore_index=True)\n",
        "\n",
        "print(df_lage_text)"
      ]
    },
    {
      "cell_type": "code",
      "execution_count": null,
      "metadata": {
        "id": "_GdMmeYAz2y5"
      },
      "outputs": [],
      "source": [
        "len(df_lage_text)"
      ]
    },
    {
      "cell_type": "code",
      "execution_count": null,
      "metadata": {
        "id": "o4m-ke5c7538"
      },
      "outputs": [],
      "source": [
        "df_lage_text = df_lage_text.drop_duplicates()"
      ]
    },
    {
      "cell_type": "code",
      "execution_count": null,
      "metadata": {
        "id": "A13lxnxp7539"
      },
      "outputs": [],
      "source": [
        "df_lage_text"
      ]
    },
    {
      "cell_type": "code",
      "execution_count": null,
      "metadata": {
        "id": "Hi1WUlGj753-"
      },
      "outputs": [],
      "source": [
        "df_lage_text.to_csv('df_lage_texte.csv', index=False)"
      ]
    },
    {
      "cell_type": "markdown",
      "metadata": {
        "id": "YkqtzGvP6D9u"
      },
      "source": [
        "## 3.2 RBNER - Spiegel Online"
      ]
    },
    {
      "cell_type": "code",
      "execution_count": null,
      "metadata": {
        "id": "vh_wg_3cJ0vw"
      },
      "outputs": [],
      "source": [
        "len(spiegel_text)"
      ]
    },
    {
      "cell_type": "code",
      "execution_count": null,
      "metadata": {
        "id": "saSc5oZnFAtn"
      },
      "outputs": [],
      "source": [
        "nlp_german = spacy.load(\"de_core_news_sm\", exclude=\"ner\") \n",
        "nlp_german = German()\n",
        "nlp_german.max_length = 5670482\n",
        "nlp_german.add_pipe('sentencizer')"
      ]
    },
    {
      "cell_type": "code",
      "execution_count": null,
      "metadata": {
        "id": "x3QK2SLwFAto"
      },
      "outputs": [],
      "source": [
        "german_ruler = nlp_german.add_pipe(\"entity_ruler\", config={\"validate\":True})"
      ]
    },
    {
      "cell_type": "code",
      "execution_count": null,
      "metadata": {
        "id": "ALnjjoygFAtq"
      },
      "outputs": [],
      "source": [
        "german_ruler.add_patterns(patterns)"
      ]
    },
    {
      "cell_type": "code",
      "execution_count": null,
      "metadata": {
        "id": "ljZfe4l5FAtq"
      },
      "outputs": [],
      "source": [
        "spiegel_text_processed = nlp_german(spiegel_text)"
      ]
    },
    {
      "cell_type": "code",
      "execution_count": null,
      "metadata": {
        "id": "zh1m0WT9L69e"
      },
      "outputs": [],
      "source": [
        "entities = [entity.text for entity in spiegel_text_processed.ents]\n",
        "\n",
        "sentences = []\n",
        "sents_list = list(spiegel_text_processed.sents)\n",
        "for i, sent in enumerate(sents_list):\n",
        "    if any(ent in sent.text.strip() for ent in entities):\n",
        "        sentences.append(sent.text.strip())\n",
        "\n",
        "df_spiegel_text = pd.DataFrame(columns=[\"Sentence\", \"Entity\"])\n",
        "\n",
        "for sentence in sentences:\n",
        "    for entity in entities:\n",
        "        if entity in sentence:\n",
        "            df_spiegel_text = df_spiegel_text.append({\"Sentence\": sentence, \"Entity\": entity}, ignore_index=True)\n",
        "\n",
        "print(df_spiegel_text)"
      ]
    },
    {
      "cell_type": "code",
      "execution_count": null,
      "metadata": {
        "id": "4Hgf8mnaKtck"
      },
      "outputs": [],
      "source": [
        "len(df_spiegel_text)"
      ]
    },
    {
      "cell_type": "code",
      "execution_count": null,
      "metadata": {
        "id": "Am4n342sKtcm"
      },
      "outputs": [],
      "source": [
        "df_spiegel_text = df_spiegel_text.drop_duplicates()"
      ]
    },
    {
      "cell_type": "code",
      "execution_count": null,
      "metadata": {
        "id": "1WN-t0G4Ktcm"
      },
      "outputs": [],
      "source": [
        "df_spiegel_text"
      ]
    },
    {
      "cell_type": "code",
      "execution_count": null,
      "metadata": {
        "id": "wBO4r1zVKtcn"
      },
      "outputs": [],
      "source": [
        "df_spiegel_text.to_csv('df_spiegel_texte.csv', index=False)"
      ]
    },
    {
      "cell_type": "markdown",
      "metadata": {
        "id": "js9dk4KD6GTv"
      },
      "source": [
        "## 3.3 RBNER - FAZ Online"
      ]
    },
    {
      "cell_type": "code",
      "execution_count": null,
      "metadata": {
        "id": "QJJ5jIly7D-F"
      },
      "outputs": [],
      "source": [
        "len(faz_text)"
      ]
    },
    {
      "cell_type": "code",
      "execution_count": null,
      "metadata": {
        "id": "6SbaQcr2JQeV"
      },
      "outputs": [],
      "source": [
        "nlp_german = spacy.load(\"de_core_news_sm\", exclude=\"ner\") \n",
        "nlp_german = German()\n",
        "nlp_german.max_length = 7287258\n",
        "nlp_german.add_pipe('sentencizer')"
      ]
    },
    {
      "cell_type": "code",
      "execution_count": null,
      "metadata": {
        "id": "JoLvqdDlJQeV"
      },
      "outputs": [],
      "source": [
        "german_ruler = nlp_german.add_pipe(\"entity_ruler\", config={\"validate\":True})"
      ]
    },
    {
      "cell_type": "code",
      "execution_count": null,
      "metadata": {
        "id": "ezA03VfyJQeV"
      },
      "outputs": [],
      "source": [
        "german_ruler.add_patterns(patterns)"
      ]
    },
    {
      "cell_type": "code",
      "execution_count": null,
      "metadata": {
        "id": "5oizSvsRJQeW"
      },
      "outputs": [],
      "source": [
        "faz_text_processed = nlp_german(faz_text)"
      ]
    },
    {
      "cell_type": "code",
      "execution_count": null,
      "metadata": {
        "id": "89Szv-kvUsKi"
      },
      "outputs": [],
      "source": [
        "entities = [entity.text for entity in faz_text_processed.ents]\n",
        "\n",
        "sentences = []\n",
        "sents_list = list(faz_text_processed.sents)\n",
        "for i, sent in enumerate(sents_list):\n",
        "    if any(ent in sent.text.strip() for ent in entities):\n",
        "        sentences.append(sent.text.strip())\n",
        "        \n",
        "df_faz_text = pd.DataFrame(columns=[\"Sentence\", \"Entity\"])\n",
        "\n",
        "for sentence in sentences:\n",
        "    for entity in entities:\n",
        "        if entity in sentence:\n",
        "            df_faz_text = df_faz_text.append({\"Sentence\": sentence, \"Entity\": entity}, ignore_index=True)\n",
        "\n",
        "print(df_faz_text)"
      ]
    },
    {
      "cell_type": "code",
      "execution_count": null,
      "metadata": {
        "id": "whb82FPnMyef"
      },
      "outputs": [],
      "source": [
        "len(df_faz_text)"
      ]
    },
    {
      "cell_type": "code",
      "execution_count": null,
      "metadata": {
        "id": "0JqDC05INf6Z"
      },
      "outputs": [],
      "source": [
        "df_faz_text = df_faz_text.drop_duplicates()"
      ]
    },
    {
      "cell_type": "code",
      "execution_count": null,
      "metadata": {
        "id": "zIzOH4QrNpT0"
      },
      "outputs": [],
      "source": [
        "df_faz_text"
      ]
    },
    {
      "cell_type": "code",
      "execution_count": null,
      "metadata": {
        "id": "E2cl0b5rOlcf"
      },
      "outputs": [],
      "source": [
        "df_faz_text.to_csv('df_faz_texte.csv', index=False)"
      ]
    },
    {
      "cell_type": "markdown",
      "metadata": {
        "id": "YD3J5Jggo6dN"
      },
      "source": [
        "# 4. Sentiment Analysis"
      ]
    },
    {
      "cell_type": "code",
      "source": [
        "from google.colab import drive\n",
        "drive.mount('/content/gdrive')"
      ],
      "metadata": {
        "colab": {
          "base_uri": "https://localhost:8080/"
        },
        "id": "hqAWxBCxSlyA",
        "outputId": "25d9df37-4e62-4421-d6ab-baff4fb998c2"
      },
      "execution_count": null,
      "outputs": [
        {
          "output_type": "stream",
          "name": "stdout",
          "text": [
            "Mounted at /content/gdrive\n"
          ]
        }
      ]
    },
    {
      "cell_type": "code",
      "source": [
        "!pip install transformers\n",
        "!pip install datasets transformers\n",
        "!pip install accelerate\n",
        "!pip install torch"
      ],
      "metadata": {
        "id": "mssaAdP_iPjs"
      },
      "execution_count": null,
      "outputs": []
    },
    {
      "cell_type": "code",
      "execution_count": null,
      "metadata": {
        "id": "rD6wzy-FpuMQ"
      },
      "outputs": [],
      "source": [
        "from transformers import BertForSequenceClassification, BertTokenizer\n",
        "\n",
        "model = BertForSequenceClassification.from_pretrained('/content/gdrive/MyDrive/BERT/bert-multilingu-finetuned-model')\n",
        "tokenizer = BertTokenizer.from_pretrained('/content/gdrive/MyDrive/BERT/bert-multilingu-finetuned-tokenizer')"
      ]
    },
    {
      "cell_type": "markdown",
      "metadata": {
        "id": "XiOwdkomq0Yq"
      },
      "source": [
        "## 4.1 Sentiment Analysis Lage der Nation"
      ]
    },
    {
      "cell_type": "code",
      "execution_count": null,
      "metadata": {
        "id": "F82EXkiivTvV"
      },
      "outputs": [],
      "source": [
        "import pandas as pd\n",
        "import torch"
      ]
    },
    {
      "cell_type": "code",
      "execution_count": null,
      "metadata": {
        "id": "btxh_vokvTvX"
      },
      "outputs": [],
      "source": [
        "df_lage_text = pd.read_csv('df_lage_texte.csv')"
      ]
    },
    {
      "cell_type": "code",
      "execution_count": null,
      "metadata": {
        "id": "xnXm0oteqoG6"
      },
      "outputs": [],
      "source": [
        "tokens = tokenizer(list(df_lage_text['Sentence']), padding=True, truncation=True, return_tensors='pt')\n",
        "input_ids = tokens['input_ids']\n",
        "attention_mask = tokens['attention_mask']\n",
        "\n",
        "with torch.no_grad():\n",
        "    outputs = model(input_ids, attention_mask=attention_mask)\n",
        "    logits = outputs.logits\n",
        "    predictions = torch.argmax(logits, dim=1)\n",
        "\n",
        "df_lage_text['predicted_label'] = predictions.tolist()\n",
        "\n",
        "df_lage_text.to_csv('classified_lage.csv', index=False)"
      ]
    },
    {
      "cell_type": "code",
      "source": [
        "df_class_lage = pd.read_csv('classified_lage.csv')"
      ],
      "metadata": {
        "id": "k5kXrrbDm3h2"
      },
      "execution_count": null,
      "outputs": []
    },
    {
      "cell_type": "code",
      "source": [
        "df_class_lage = df_class_lage[df_class_lage['Entity'] != 'Regierung']\n",
        "df_class_lage = df_class_lage[df_class_lage['Entity'] != 'Opposition']\n",
        "df_class_lage = df_class_lage[df_class_lage['Entity'] != 'Regierungsparteien']\n",
        "df_class_lage = df_class_lage[df_class_lage['Entity'] != 'Oppositionsparteien']\n",
        "df_class_lage = df_class_lage[df_class_lage['Entity'] != 'Koalition']\n",
        "df_class_lage = df_class_lage[df_class_lage['Entity'] != 'Koalitionsparteien']\n",
        "df_class_lage = df_class_lage[df_class_lage['Entity'] != 'Ampelkoalition']\n",
        "df_class_lage = df_class_lage[df_class_lage['Entity'] != 'Koalition']\n",
        "df_class_lage = df_class_lage[df_class_lage['Entity'] != 'Ampelparteien']\n",
        "df_class_lage = df_class_lage[df_class_lage['Entity'] != 'Ampelregierung']\n",
        "df_class_lage = df_class_lage[df_class_lage['Entity'] != 'Ampel']\n",
        "df_class_lage = df_class_lage[df_class_lage['Entity'] != 'Regierungskoalition']\n",
        "df_class_lage = df_class_lage[df_class_lage['Entity'] != 'Schwarz-Gelb']\n",
        "df_class_lage = df_class_lage[df_class_lage['Entity'] != 'Schwarz-Grün']\n",
        "df_class_lage = df_class_lage[df_class_lage['Entity'] != 'Groko']\n",
        "df_class_lage = df_class_lage[df_class_lage['Entity'] != 'Große Koalition']\n",
        "df_class_lage = df_class_lage[df_class_lage['Entity'] != 'Jamaika']\n",
        "df_class_lage = df_class_lage[df_class_lage['Entity'] != 'Kenia']"
      ],
      "metadata": {
        "id": "u7bwGrHHvhWr"
      },
      "execution_count": null,
      "outputs": []
    },
    {
      "cell_type": "code",
      "source": [
        "df_class_lage"
      ],
      "metadata": {
        "id": "hFZ7PWg1wlmh"
      },
      "execution_count": null,
      "outputs": []
    },
    {
      "cell_type": "code",
      "source": [
        "df_class_lage.replace({\"Entity\": {\"Sozialdemokraten\": \"SPD\", \"Sozialdemokratinnen\": \"SPD\", \"Sozialdemokratinnen\": \"SPD\", \"Genossen\": \"SPD\",\n",
        "                                  \"Genossinnen\": \"SPD\", \"SPD-Bundestagsfraktion\": \"SPD\", \"SPD-Fraktion im Bundestag\": \"SPD\", \"SPD-Fraktion\": \"SPD\",\n",
        "                                  \"Olaf Scholz\": \"SPD\", \"Saskia Esken\": \"SPD\", \"Lars Klingbeil\": \"SPD\", \"Franziska Giffey\": \"SPD\", \"Dietmar Woidke\": \"SPD\",\n",
        "                                  \"Andreas Bovenschulte\": \"SPD\", \"Peter Tschentscher\": \"SPD\", \"Manuela Schwesig\": \"SPD\", \"Stephan Weil\": \"SPD\", \"Malu Dreyer\": \"SPD\",\n",
        "                                  \"Anke Rehlinger\": \"SPD\", \"Nancy Faeser\": \"SPD\", \"Hubertus Heil\": \"SPD\", \"Christine Lambrecht\": \"SPD\", \"Karl Lauterbach\": \"SPD\",\n",
        "                                  \"Svenja Schulze\": \"SPD\", \"Klara Geywitz\": \"SPD\", \"Wolfgang Schmidt\": \"SPD\", \"Kevin Kühnert\": \"SPD\", \"Bärbel Bas\": \"SPD\",\n",
        "                                  \"Aydan Özoğuz\": \"SPD\", \"Frank-Walter Steinmeier\": \"SPD\", \"Rolf Mützenich\": \"SPD\"}}, inplace=True)\n",
        "\n",
        "df_class_lage.replace({\"Entity\": {\"Bündnis 90/Die Grünen\": \"Grüne\", \"Die Grünen\": \"Grüne\", \"Bundestagsfraktion Bündnis 90/Die Grünen\": \"Grüne\", \"Grünenfraktion\": \"Grüne\", \"Ricarda Lang\": \"Grüne\",\n",
        "                                  \"Omid Nouripour\": \"Grüne\", \"Winfried Kretschmann\": \"Grüne\", \"Annalena Bärbock\": \"Grüne\", \"Robert Habeck\": \"Grüne\",\n",
        "                                  \"Cem Özdemir\": \"Grüne\", \"Lisa Paus\": \"Grüne\", \"Steffi Lemke\": \"Grüne\", \"Emily May Büning\": \"Grüne\",\n",
        "                                  \"Katrin Göring-Eckardt\": \"Grüne\", \"Katharina Dröge\": \"Grüne\", \"Britta Haßelmann\": \"Grüne\"}}, inplace=True)\n",
        "\n",
        "df_class_lage.replace({\"Entity\": {\"Liberale\": \"FDP\", \"Die Liberalen\": \"FDP\", \"Freie Demokraten\": \"FDP\", \"Fraktion der Freien Demokraten\": \"FDP\", \"FDP-Bundestagsfraktion\": \"FDP\",\n",
        "                                  \"FDP-Fraktion\": \"FDP\", \"Christian Lindner\": \"FDP\", \"Marco Buschmann\": \"FDP\", \"Volker Wissing\": \"FDP\",\n",
        "                                  \"Bettina Stark-Watzinger\": \"FDP\", \"Bijan Djir-Sarai\": \"FDP\", \"Wolfgang Kubicki\": \"FDP\", \"Christian Dürr\": \"FDP\"}}, inplace=True)\n",
        "\n",
        "df_class_lage.replace({\"Entity\": {\"CDU\": \"UNION\", \"CSU\": \"UNION\", \"CDU/CSU\": \"UNION\", \"Union\": \"UNION\", \"Konservative\": \"UNION\",\n",
        "                                  \"Schwersterparteien\": \"UNION\", \"CDU/CSU-Fraktion im Deutschen Bundestag\": \"UNION\", \"CDU/CSU-Bundestagsfraktion\": \"UNION\", \"Unionsfraktion\": \"UNION\",\n",
        "                                  \"CDU/CSU-Fraktion\": \"UNION\", \"Friedrich Merz\": \"UNION\", \"Markus Söder\": \"UNION\", \"Hendirk Wüst\": \"UNION\",\n",
        "                                  \"Michael Kretschmer\": \"UNION\", \"Rainer Haseloff\": \"UNION\", \"Daniel Günther\": \"UNION\", \"Yvonne Magwas\": \"UNION\", \"Martin Huber\": \"UNION\", \"Mario Czaja\": \"UNION\"}}, inplace=True)\n",
        "\n",
        "df_class_lage.replace({\"Entity\": {\"Die Linke\": \"LINKE\", \"Linkspartei\": \"LINKE\", \"Die Linken\": \"LINKE\", \"Fraktion Die Linke im Bundestag\": \"LINKE\", \"Linksfraktion\": \"LINKE\",\n",
        "                                  \"Fraktion Die Linke\": \"LINKE\", \"Janine Wissler\": \"LINKE\", \"Martin Schirdewan\": \"LINKE\", \"Bodo Ramelow\": \"LINKE\",\n",
        "                                  \"Petra Pau\": \"LINKE\", \"Dietmar Bartsch\": \"LINKE\", \"Amira Mohamed Ali\": \"LINKE\"}}, inplace=True)\n",
        "\n",
        "df_class_lage.replace({\"Entity\": {\"AfD\": \"AFD\", \"Alternative für Deutschland\": \"AFD\", \"AfD-Fraktion im Bundestag\": \"AFD\", \"AfD-Bundestagsfraktion\": \"AFD\", \"AfD-Fraktion\": \"AFD\",\n",
        "                                  \"Tino Chrupalla\": \"AFD\", \"Alice Weidel\": \"AFD\"}}, inplace=True)\n",
        "\n"
      ],
      "metadata": {
        "id": "EBX-JGdCu2De"
      },
      "execution_count": null,
      "outputs": []
    },
    {
      "cell_type": "code",
      "execution_count": null,
      "metadata": {
        "id": "Zoo2DY05Ztly"
      },
      "outputs": [],
      "source": [
        "#auszählen Sentiments im Allgemeinen\n",
        "freq_senti_gen = df_class_lage.groupby('predicted_label').size()\n",
        "df_freq_senti_gen  = pd.DataFrame(freq_senti_gen )\n",
        "\n",
        "df_freq_senti_gen = df_freq_senti_gen.rename(columns={0: \"freq\"})\n",
        "\n",
        "df_freq_senti_gen"
      ]
    },
    {
      "cell_type": "code",
      "execution_count": null,
      "metadata": {
        "id": "8shU1Be1bFdu"
      },
      "outputs": [],
      "source": [
        "#auszählen Sentiments nach Entities\n",
        "freq_senti_enti = df_class_lage.groupby('Entity')['predicted_label'].value_counts()\n",
        "df_freq_senti_enti = pd.DataFrame(freq_senti_enti)\n",
        "df_freq_senti_enti\n",
        "\n",
        "freq_senti_enti.to_csv('df_freq_senti_enti_lage.csv', index=False)"
      ]
    },
    {
      "cell_type": "code",
      "source": [
        "df_freq_senti_enti"
      ],
      "metadata": {
        "id": "_OxnXz90lG2G"
      },
      "execution_count": null,
      "outputs": []
    },
    {
      "cell_type": "markdown",
      "metadata": {
        "id": "qx07qST0smpd"
      },
      "source": [
        "## 4.2 Sentiment Analysis Spiegel Online"
      ]
    },
    {
      "cell_type": "code",
      "execution_count": null,
      "metadata": {
        "id": "aY3zbnwImS-h"
      },
      "outputs": [],
      "source": [
        "import pandas as pd\n",
        "import torch"
      ]
    },
    {
      "cell_type": "code",
      "execution_count": null,
      "metadata": {
        "id": "YKC6Z5Pwj8MV"
      },
      "outputs": [],
      "source": [
        "df_spiegel_text = pd.read_csv('df_spiegel_texte.csv')"
      ]
    },
    {
      "cell_type": "code",
      "execution_count": null,
      "metadata": {
        "id": "9dHRAkTomv6-"
      },
      "outputs": [],
      "source": [
        "df_spiegel_text.head()"
      ]
    },
    {
      "cell_type": "code",
      "execution_count": null,
      "metadata": {
        "id": "8aiCjVq3smpe"
      },
      "outputs": [],
      "source": [
        "tokens = tokenizer(list(df_spiegel_text['Sentence']), padding=True, truncation=True, return_tensors='pt')\n",
        "input_ids = tokens['input_ids']\n",
        "attention_mask = tokens['attention_mask']\n",
        "\n",
        "with torch.no_grad():\n",
        "    outputs = model(input_ids, attention_mask=attention_mask)\n",
        "    logits = outputs.logits\n",
        "    predictions = torch.argmax(logits, dim=1)\n",
        "\n",
        "df_spiegel_text['predicted_label'] = predictions.tolist()\n",
        "\n",
        "df_spiegel_text.to_csv('classified_spiegel.csv', index=False)"
      ]
    },
    {
      "cell_type": "code",
      "execution_count": null,
      "metadata": {
        "id": "fKYPTBwBqNAf"
      },
      "outputs": [],
      "source": [
        "df_spiegel_text"
      ]
    },
    {
      "cell_type": "code",
      "source": [
        "df_class_spiegel = pd.read_csv('classified_spiegel.csv')"
      ],
      "metadata": {
        "id": "_G2GTViqnKoe"
      },
      "execution_count": null,
      "outputs": []
    },
    {
      "cell_type": "code",
      "source": [
        "df_class_spiegel = df_class_spiegel[df_class_spiegel['Entity'] != 'Regierung']\n",
        "df_class_spiegel = df_class_spiegel[df_class_spiegel['Entity'] != 'Opposition']\n",
        "df_class_spiegel = df_class_spiegel[df_class_spiegel['Entity'] != 'Regierungsparteien']\n",
        "df_class_spiegel = df_class_spiegel[df_class_spiegel['Entity'] != 'Oppositionsparteien']\n",
        "df_class_spiegel = df_class_spiegel[df_class_spiegel['Entity'] != 'Koalition']\n",
        "df_class_spiegel = df_class_spiegel[df_class_spiegel['Entity'] != 'Koalitionsparteien']\n",
        "df_class_spiegel = df_class_spiegel[df_class_spiegel['Entity'] != 'Ampelkoalition']\n",
        "df_class_spiegel = df_class_spiegel[df_class_spiegel['Entity'] != 'Koalition']\n",
        "df_class_spiegel = df_class_spiegel[df_class_spiegel['Entity'] != 'Ampelparteien']\n",
        "df_class_spiegel = df_class_spiegel[df_class_spiegel['Entity'] != 'Ampelregierung']\n",
        "df_class_spiegel = df_class_spiegel[df_class_spiegel['Entity'] != 'Ampel']\n",
        "df_class_spiegel = df_class_spiegel[df_class_spiegel['Entity'] != 'Regierungskoalition']\n",
        "df_class_spiegel = df_class_spiegel[df_class_spiegel['Entity'] != 'Schwarz-Gelb']\n",
        "df_class_spiegel = df_class_spiegel[df_class_spiegel['Entity'] != 'Schwarz-Grün']\n",
        "df_class_spiegel = df_class_spiegel[df_class_spiegel['Entity'] != 'Groko']\n",
        "df_class_spiegel = df_class_spiegel[df_class_spiegel['Entity'] != 'Große Koalition']\n",
        "df_class_spiegel = df_class_spiegel[df_class_spiegel['Entity'] != 'Jamaika']\n",
        "df_class_spiegel = df_class_spiegel[df_class_spiegel['Entity'] != 'Kenia']"
      ],
      "metadata": {
        "id": "zjo3Y-NV7yEx"
      },
      "execution_count": null,
      "outputs": []
    },
    {
      "cell_type": "code",
      "source": [
        "df_class_spiegel.replace({\"Entity\": {\"Sozialdemokraten\": \"SPD\", \"Sozialdemokratinnen\": \"SPD\", \"Sozialdemokratinnen\": \"SPD\", \"Genossen\": \"SPD\",\n",
        "                                  \"Genossinnen\": \"SPD\", \"SPD-Bundestagsfraktion\": \"SPD\", \"SPD-Fraktion im Bundestag\": \"SPD\", \"SPD-Fraktion\": \"SPD\",\n",
        "                                  \"Olaf Scholz\": \"SPD\", \"Saskia Esken\": \"SPD\", \"Lars Klingbeil\": \"SPD\", \"Franziska Giffey\": \"SPD\", \"Dietmar Woidke\": \"SPD\",\n",
        "                                  \"Andreas Bovenschulte\": \"SPD\", \"Peter Tschentscher\": \"SPD\", \"Manuela Schwesig\": \"SPD\", \"Stephan Weil\": \"SPD\", \"Malu Dreyer\": \"SPD\",\n",
        "                                  \"Anke Rehlinger\": \"SPD\", \"Nancy Faeser\": \"SPD\", \"Hubertus Heil\": \"SPD\", \"Christine Lambrecht\": \"SPD\", \"Karl Lauterbach\": \"SPD\",\n",
        "                                  \"Svenja Schulze\": \"SPD\", \"Klara Geywitz\": \"SPD\", \"Wolfgang Schmidt\": \"SPD\", \"Kevin Kühnert\": \"SPD\", \"Bärbel Bas\": \"SPD\",\n",
        "                                  \"Aydan Özoğuz\": \"SPD\", \"Frank-Walter Steinmeier\": \"SPD\", \"Rolf Mützenich\": \"SPD\"}}, inplace=True)\n",
        "\n",
        "df_class_spiegel.replace({\"Entity\": {\"Bündnis 90/Die Grünen\": \"Grüne\", \"Die Grünen\": \"Grüne\", \"Bundestagsfraktion Bündnis 90/Die Grünen\": \"Grüne\", \"Grünenfraktion\": \"Grüne\", \"Ricarda Lang\": \"Grüne\",\n",
        "                                  \"Omid Nouripour\": \"Grüne\", \"Winfried Kretschmann\": \"Grüne\", \"Annalena Bärbock\": \"Grüne\", \"Robert Habeck\": \"Grüne\",\n",
        "                                  \"Cem Özdemir\": \"Grüne\", \"Lisa Paus\": \"Grüne\", \"Steffi Lemke\": \"Grüne\", \"Emily May Büning\": \"Grüne\",\n",
        "                                  \"Katrin Göring-Eckardt\": \"Grüne\", \"Katharina Dröge\": \"Grüne\", \"Britta Haßelmann\": \"Grüne\"}}, inplace=True)\n",
        "\n",
        "df_class_spiegel.replace({\"Entity\": {\"Liberale\": \"FDP\", \"Die Liberalen\": \"FDP\", \"Freie Demokraten\": \"FDP\", \"Fraktion der Freien Demokraten\": \"FDP\", \"FDP-Bundestagsfraktion\": \"FDP\",\n",
        "                                  \"FDP-Fraktion\": \"FDP\", \"Christian Lindner\": \"FDP\", \"Marco Buschmann\": \"FDP\", \"Volker Wissing\": \"FDP\",\n",
        "                                  \"Bettina Stark-Watzinger\": \"FDP\", \"Bijan Djir-Sarai\": \"FDP\", \"Wolfgang Kubicki\": \"FDP\", \"Christian Dürr\": \"FDP\"}}, inplace=True)\n",
        "\n",
        "df_class_spiegel.replace({\"Entity\": {\"CDU\": \"UNION\", \"CSU\": \"UNION\", \"CDU/CSU\": \"UNION\", \"Union\": \"UNION\", \"Konservative\": \"UNION\",\n",
        "                                  \"Schwersterparteien\": \"UNION\", \"CDU/CSU-Fraktion im Deutschen Bundestag\": \"UNION\", \"CDU/CSU-Bundestagsfraktion\": \"UNION\", \"Unionsfraktion\": \"UNION\",\n",
        "                                  \"CDU/CSU-Fraktion\": \"UNION\", \"Friedrich Merz\": \"UNION\", \"Markus Söder\": \"UNION\", \"Hendirk Wüst\": \"UNION\",\n",
        "                                  \"Michael Kretschmer\": \"UNION\", \"Rainer Haseloff\": \"UNION\", \"Daniel Günther\": \"UNION\", \"Yvonne Magwas\": \"UNION\", \"Martin Huber\": \"UNION\", \"Mario Czaja\": \"UNION\"}}, inplace=True)\n",
        "\n",
        "df_class_spiegel.replace({\"Entity\": {\"Die Linke\": \"LINKE\", \"Linkspartei\": \"LINKE\", \"Die Linken\": \"LINKE\", \"Fraktion Die Linke im Bundestag\": \"LINKE\", \"Linksfraktion\": \"LINKE\",\n",
        "                                  \"Fraktion Die Linke\": \"LINKE\", \"Janine Wissler\": \"LINKE\", \"Martin Schirdewan\": \"LINKE\", \"Bodo Ramelow\": \"LINKE\",\n",
        "                                  \"Petra Pau\": \"LINKE\", \"Dietmar Bartsch\": \"LINKE\", \"Amira Mohamed Ali\": \"LINKE\"}}, inplace=True)\n",
        "\n",
        "df_class_spiegel.replace({\"Entity\": {\"AfD\": \"AFD\", \"Alternative für Deutschland\": \"AFD\", \"AfD-Fraktion im Bundestag\": \"AFD\", \"AfD-Bundestagsfraktion\": \"AFD\", \"AfD-Fraktion\": \"AFD\",\n",
        "                                  \"Tino Chrupalla\": \"AFD\", \"Alice Weidel\": \"AFD\"}}, inplace=True)\n",
        "\n"
      ],
      "metadata": {
        "id": "jzj9iYHe7yEz"
      },
      "execution_count": null,
      "outputs": []
    },
    {
      "cell_type": "code",
      "execution_count": null,
      "metadata": {
        "id": "giZqkM8gqaua"
      },
      "outputs": [],
      "source": [
        "#auszählen Sentiments im Allgemeinen\n",
        "freq_senti_gen = df_class_spiegel.groupby('predicted_label').size()\n",
        "df_freq_senti_gen  = pd.DataFrame(freq_senti_gen )\n",
        "\n",
        "df_freq_senti_gen"
      ]
    },
    {
      "cell_type": "code",
      "execution_count": null,
      "metadata": {
        "id": "IW1Pj7E-qmIx"
      },
      "outputs": [],
      "source": [
        "#auszählen Sentiments nach Entities\n",
        "freq_senti_enti = df_class_spiegel.groupby('Entity')['predicted_label'].value_counts()\n",
        "df_freq_senti_enti = pd.DataFrame(freq_senti_enti)\n",
        "\n",
        "df_freq_senti_enti"
      ]
    },
    {
      "cell_type": "markdown",
      "metadata": {
        "id": "s30TncBcsn52"
      },
      "source": [
        "## 4.3 Sentiment Analysis FAZ Online"
      ]
    },
    {
      "cell_type": "code",
      "execution_count": null,
      "metadata": {
        "id": "SgjSmFr7vg6Q"
      },
      "outputs": [],
      "source": [
        "import pandas as pd\n",
        "import torch"
      ]
    },
    {
      "cell_type": "code",
      "execution_count": null,
      "metadata": {
        "id": "WEt-dLrhvg6R"
      },
      "outputs": [],
      "source": [
        "df_faz_text = pd.read_csv('df_faz_texte.csv')"
      ]
    },
    {
      "cell_type": "code",
      "execution_count": null,
      "metadata": {
        "id": "nE8ahfDrsn53"
      },
      "outputs": [],
      "source": [
        "tokens = tokenizer(list(df_faz_text['Sentence']), padding=True, truncation=True, return_tensors='pt')\n",
        "input_ids = tokens['input_ids']\n",
        "attention_mask = tokens['attention_mask']\n",
        "\n",
        "with torch.no_grad():\n",
        "    outputs = model(input_ids, attention_mask=attention_mask)\n",
        "    logits = outputs.logits\n",
        "    predictions = torch.argmax(logits, dim=1)\n",
        "\n",
        "df_faz_text['predicted_label'] = predictions.tolist()\n",
        "\n",
        "df_faz_text.to_csv('classified_faz.csv', index=False)"
      ]
    },
    {
      "cell_type": "code",
      "source": [
        "df_class_faz = pd.read_csv('classified_faz.csv')"
      ],
      "metadata": {
        "id": "iYXv3BEqsnGb"
      },
      "execution_count": null,
      "outputs": []
    },
    {
      "cell_type": "code",
      "source": [
        "df_class_faz"
      ],
      "metadata": {
        "colab": {
          "base_uri": "https://localhost:8080/",
          "height": 424
        },
        "id": "eu6CXxkjsvUQ",
        "outputId": "cc8931ef-9dc5-4591-f9ff-ae1fd0a8a29a"
      },
      "execution_count": null,
      "outputs": [
        {
          "output_type": "execute_result",
          "data": {
            "text/plain": [
              "                                              Sentence           Entity  \\\n",
              "0    Bundesinnenministerin Nancy Faeser (SPD), die ...     Nancy Faeser   \n",
              "1    Bundesinnenministerin Nancy Faeser (SPD), die ...              SPD   \n",
              "2    Die Regierung in Tunis wies diese Äußerungen e...        Regierung   \n",
              "3    Doch die Regierung ist bei der Erfüllung ihrer...        Regierung   \n",
              "4    Justizreform                                : ...        Regierung   \n",
              "..                                                 ...              ...   \n",
              "752  Christian Drosten ruft das Ende der Pandemie a...  Marco Buschmann   \n",
              "753  Bundesbildungsministerin Stark-Watzinger hat e...        Regierung   \n",
              "754  Grünen-Politikerin Brantner wurde in Taiwan em...            Grüne   \n",
              "755  Die amerikanische Regierung muss nun noch mehr...        Regierung   \n",
              "756  Daran ist auch die Regierung schuld, denn abse...        Regierung   \n",
              "\n",
              "     predicted_label  \n",
              "0                  2  \n",
              "1                  2  \n",
              "2                  1  \n",
              "3                  1  \n",
              "4                  1  \n",
              "..               ...  \n",
              "752                1  \n",
              "753                2  \n",
              "754                2  \n",
              "755                2  \n",
              "756                1  \n",
              "\n",
              "[757 rows x 3 columns]"
            ],
            "text/html": [
              "\n",
              "  <div id=\"df-22613a19-896b-4c7b-b0b4-ddfa585763e3\">\n",
              "    <div class=\"colab-df-container\">\n",
              "      <div>\n",
              "<style scoped>\n",
              "    .dataframe tbody tr th:only-of-type {\n",
              "        vertical-align: middle;\n",
              "    }\n",
              "\n",
              "    .dataframe tbody tr th {\n",
              "        vertical-align: top;\n",
              "    }\n",
              "\n",
              "    .dataframe thead th {\n",
              "        text-align: right;\n",
              "    }\n",
              "</style>\n",
              "<table border=\"1\" class=\"dataframe\">\n",
              "  <thead>\n",
              "    <tr style=\"text-align: right;\">\n",
              "      <th></th>\n",
              "      <th>Sentence</th>\n",
              "      <th>Entity</th>\n",
              "      <th>predicted_label</th>\n",
              "    </tr>\n",
              "  </thead>\n",
              "  <tbody>\n",
              "    <tr>\n",
              "      <th>0</th>\n",
              "      <td>Bundesinnenministerin Nancy Faeser (SPD), die ...</td>\n",
              "      <td>Nancy Faeser</td>\n",
              "      <td>2</td>\n",
              "    </tr>\n",
              "    <tr>\n",
              "      <th>1</th>\n",
              "      <td>Bundesinnenministerin Nancy Faeser (SPD), die ...</td>\n",
              "      <td>SPD</td>\n",
              "      <td>2</td>\n",
              "    </tr>\n",
              "    <tr>\n",
              "      <th>2</th>\n",
              "      <td>Die Regierung in Tunis wies diese Äußerungen e...</td>\n",
              "      <td>Regierung</td>\n",
              "      <td>1</td>\n",
              "    </tr>\n",
              "    <tr>\n",
              "      <th>3</th>\n",
              "      <td>Doch die Regierung ist bei der Erfüllung ihrer...</td>\n",
              "      <td>Regierung</td>\n",
              "      <td>1</td>\n",
              "    </tr>\n",
              "    <tr>\n",
              "      <th>4</th>\n",
              "      <td>Justizreform                                : ...</td>\n",
              "      <td>Regierung</td>\n",
              "      <td>1</td>\n",
              "    </tr>\n",
              "    <tr>\n",
              "      <th>...</th>\n",
              "      <td>...</td>\n",
              "      <td>...</td>\n",
              "      <td>...</td>\n",
              "    </tr>\n",
              "    <tr>\n",
              "      <th>752</th>\n",
              "      <td>Christian Drosten ruft das Ende der Pandemie a...</td>\n",
              "      <td>Marco Buschmann</td>\n",
              "      <td>1</td>\n",
              "    </tr>\n",
              "    <tr>\n",
              "      <th>753</th>\n",
              "      <td>Bundesbildungsministerin Stark-Watzinger hat e...</td>\n",
              "      <td>Regierung</td>\n",
              "      <td>2</td>\n",
              "    </tr>\n",
              "    <tr>\n",
              "      <th>754</th>\n",
              "      <td>Grünen-Politikerin Brantner wurde in Taiwan em...</td>\n",
              "      <td>Grüne</td>\n",
              "      <td>2</td>\n",
              "    </tr>\n",
              "    <tr>\n",
              "      <th>755</th>\n",
              "      <td>Die amerikanische Regierung muss nun noch mehr...</td>\n",
              "      <td>Regierung</td>\n",
              "      <td>2</td>\n",
              "    </tr>\n",
              "    <tr>\n",
              "      <th>756</th>\n",
              "      <td>Daran ist auch die Regierung schuld, denn abse...</td>\n",
              "      <td>Regierung</td>\n",
              "      <td>1</td>\n",
              "    </tr>\n",
              "  </tbody>\n",
              "</table>\n",
              "<p>757 rows × 3 columns</p>\n",
              "</div>\n",
              "      <button class=\"colab-df-convert\" onclick=\"convertToInteractive('df-22613a19-896b-4c7b-b0b4-ddfa585763e3')\"\n",
              "              title=\"Convert this dataframe to an interactive table.\"\n",
              "              style=\"display:none;\">\n",
              "        \n",
              "  <svg xmlns=\"http://www.w3.org/2000/svg\" height=\"24px\"viewBox=\"0 0 24 24\"\n",
              "       width=\"24px\">\n",
              "    <path d=\"M0 0h24v24H0V0z\" fill=\"none\"/>\n",
              "    <path d=\"M18.56 5.44l.94 2.06.94-2.06 2.06-.94-2.06-.94-.94-2.06-.94 2.06-2.06.94zm-11 1L8.5 8.5l.94-2.06 2.06-.94-2.06-.94L8.5 2.5l-.94 2.06-2.06.94zm10 10l.94 2.06.94-2.06 2.06-.94-2.06-.94-.94-2.06-.94 2.06-2.06.94z\"/><path d=\"M17.41 7.96l-1.37-1.37c-.4-.4-.92-.59-1.43-.59-.52 0-1.04.2-1.43.59L10.3 9.45l-7.72 7.72c-.78.78-.78 2.05 0 2.83L4 21.41c.39.39.9.59 1.41.59.51 0 1.02-.2 1.41-.59l7.78-7.78 2.81-2.81c.8-.78.8-2.07 0-2.86zM5.41 20L4 18.59l7.72-7.72 1.47 1.35L5.41 20z\"/>\n",
              "  </svg>\n",
              "      </button>\n",
              "      \n",
              "  <style>\n",
              "    .colab-df-container {\n",
              "      display:flex;\n",
              "      flex-wrap:wrap;\n",
              "      gap: 12px;\n",
              "    }\n",
              "\n",
              "    .colab-df-convert {\n",
              "      background-color: #E8F0FE;\n",
              "      border: none;\n",
              "      border-radius: 50%;\n",
              "      cursor: pointer;\n",
              "      display: none;\n",
              "      fill: #1967D2;\n",
              "      height: 32px;\n",
              "      padding: 0 0 0 0;\n",
              "      width: 32px;\n",
              "    }\n",
              "\n",
              "    .colab-df-convert:hover {\n",
              "      background-color: #E2EBFA;\n",
              "      box-shadow: 0px 1px 2px rgba(60, 64, 67, 0.3), 0px 1px 3px 1px rgba(60, 64, 67, 0.15);\n",
              "      fill: #174EA6;\n",
              "    }\n",
              "\n",
              "    [theme=dark] .colab-df-convert {\n",
              "      background-color: #3B4455;\n",
              "      fill: #D2E3FC;\n",
              "    }\n",
              "\n",
              "    [theme=dark] .colab-df-convert:hover {\n",
              "      background-color: #434B5C;\n",
              "      box-shadow: 0px 1px 3px 1px rgba(0, 0, 0, 0.15);\n",
              "      filter: drop-shadow(0px 1px 2px rgba(0, 0, 0, 0.3));\n",
              "      fill: #FFFFFF;\n",
              "    }\n",
              "  </style>\n",
              "\n",
              "      <script>\n",
              "        const buttonEl =\n",
              "          document.querySelector('#df-22613a19-896b-4c7b-b0b4-ddfa585763e3 button.colab-df-convert');\n",
              "        buttonEl.style.display =\n",
              "          google.colab.kernel.accessAllowed ? 'block' : 'none';\n",
              "\n",
              "        async function convertToInteractive(key) {\n",
              "          const element = document.querySelector('#df-22613a19-896b-4c7b-b0b4-ddfa585763e3');\n",
              "          const dataTable =\n",
              "            await google.colab.kernel.invokeFunction('convertToInteractive',\n",
              "                                                     [key], {});\n",
              "          if (!dataTable) return;\n",
              "\n",
              "          const docLinkHtml = 'Like what you see? Visit the ' +\n",
              "            '<a target=\"_blank\" href=https://colab.research.google.com/notebooks/data_table.ipynb>data table notebook</a>'\n",
              "            + ' to learn more about interactive tables.';\n",
              "          element.innerHTML = '';\n",
              "          dataTable['output_type'] = 'display_data';\n",
              "          await google.colab.output.renderOutput(dataTable, element);\n",
              "          const docLink = document.createElement('div');\n",
              "          docLink.innerHTML = docLinkHtml;\n",
              "          element.appendChild(docLink);\n",
              "        }\n",
              "      </script>\n",
              "    </div>\n",
              "  </div>\n",
              "  "
            ]
          },
          "metadata": {},
          "execution_count": 50
        }
      ]
    },
    {
      "cell_type": "code",
      "source": [
        "df_class_faz = df_class_faz[df_class_faz['Entity'] != 'Regierung']\n",
        "df_class_faz = df_class_faz[df_class_faz['Entity'] != 'Opposition']\n",
        "df_class_faz = df_class_faz[df_class_faz['Entity'] != 'Regierungsparteien']\n",
        "df_class_faz = df_class_faz[df_class_faz['Entity'] != 'Oppositionsparteien']\n",
        "df_class_faz = df_class_faz[df_class_faz['Entity'] != 'Koalition']\n",
        "df_class_faz = df_class_faz[df_class_faz['Entity'] != 'Koalitionsparteien']\n",
        "df_class_faz = df_class_faz[df_class_faz['Entity'] != 'Ampelkoalition']\n",
        "df_class_faz = df_class_faz[df_class_faz['Entity'] != 'Koalition']\n",
        "df_class_faz = df_class_faz[df_class_faz['Entity'] != 'Ampelparteien']\n",
        "df_class_faz = df_class_faz[df_class_faz['Entity'] != 'Ampelregierung']\n",
        "df_class_faz = df_class_faz[df_class_faz['Entity'] != 'Ampel']\n",
        "df_class_faz = df_class_faz[df_class_faz['Entity'] != 'Regierungskoalition']\n",
        "df_class_faz = df_class_faz[df_class_faz['Entity'] != 'Schwarz-Gelb']\n",
        "df_class_faz = df_class_faz[df_class_faz['Entity'] != 'Schwarz-Grün']\n",
        "df_class_faz = df_class_faz[df_class_faz['Entity'] != 'Groko']\n",
        "df_class_faz = df_class_faz[df_class_faz['Entity'] != 'Große Koalition']\n",
        "df_class_faz = df_class_faz[df_class_faz['Entity'] != 'Jamaika']\n",
        "df_class_faz = df_class_faz[df_class_faz['Entity'] != 'Kenia']"
      ],
      "metadata": {
        "id": "DAQhtnVu_Mf3"
      },
      "execution_count": null,
      "outputs": []
    },
    {
      "cell_type": "code",
      "source": [
        "df_class_faz.replace({\"Entity\": {\"Sozialdemokraten\": \"SPD\", \"Sozialdemokratinnen\": \"SPD\", \"Sozialdemokratinnen\": \"SPD\", \"Genossen\": \"SPD\",\n",
        "                                  \"Genossinnen\": \"SPD\", \"SPD-Bundestagsfraktion\": \"SPD\", \"SPD-Fraktion im Bundestag\": \"SPD\", \"SPD-Fraktion\": \"SPD\",\n",
        "                                  \"Olaf Scholz\": \"SPD\", \"Saskia Esken\": \"SPD\", \"Lars Klingbeil\": \"SPD\", \"Franziska Giffey\": \"SPD\", \"Dietmar Woidke\": \"SPD\",\n",
        "                                  \"Andreas Bovenschulte\": \"SPD\", \"Peter Tschentscher\": \"SPD\", \"Manuela Schwesig\": \"SPD\", \"Stephan Weil\": \"SPD\", \"Malu Dreyer\": \"SPD\",\n",
        "                                  \"Anke Rehlinger\": \"SPD\", \"Nancy Faeser\": \"SPD\", \"Hubertus Heil\": \"SPD\", \"Christine Lambrecht\": \"SPD\", \"Karl Lauterbach\": \"SPD\",\n",
        "                                  \"Svenja Schulze\": \"SPD\", \"Klara Geywitz\": \"SPD\", \"Wolfgang Schmidt\": \"SPD\", \"Kevin Kühnert\": \"SPD\", \"Bärbel Bas\": \"SPD\",\n",
        "                                  \"Aydan Özoğuz\": \"SPD\", \"Frank-Walter Steinmeier\": \"SPD\", \"Rolf Mützenich\": \"SPD\"}}, inplace=True)\n",
        "\n",
        "df_class_faz.replace({\"Entity\": {\"Bündnis 90/Die Grünen\": \"Grüne\", \"Die Grünen\": \"Grüne\", \"Bundestagsfraktion Bündnis 90/Die Grünen\": \"Grüne\", \"Grünenfraktion\": \"Grüne\", \"Ricarda Lang\": \"Grüne\",\n",
        "                                  \"Omid Nouripour\": \"Grüne\", \"Winfried Kretschmann\": \"Grüne\", \"Annalena Bärbock\": \"Grüne\", \"Robert Habeck\": \"Grüne\",\n",
        "                                  \"Cem Özdemir\": \"Grüne\", \"Lisa Paus\": \"Grüne\", \"Steffi Lemke\": \"Grüne\", \"Emily May Büning\": \"Grüne\",\n",
        "                                  \"Katrin Göring-Eckardt\": \"Grüne\", \"Katharina Dröge\": \"Grüne\", \"Britta Haßelmann\": \"Grüne\"}}, inplace=True)\n",
        "\n",
        "df_class_faz.replace({\"Entity\": {\"Liberale\": \"FDP\", \"Die Liberalen\": \"FDP\", \"Freie Demokraten\": \"FDP\", \"Fraktion der Freien Demokraten\": \"FDP\", \"FDP-Bundestagsfraktion\": \"FDP\",\n",
        "                                  \"FDP-Fraktion\": \"FDP\", \"Christian Lindner\": \"FDP\", \"Marco Buschmann\": \"FDP\", \"Volker Wissing\": \"FDP\",\n",
        "                                  \"Bettina Stark-Watzinger\": \"FDP\", \"Bijan Djir-Sarai\": \"FDP\", \"Wolfgang Kubicki\": \"FDP\", \"Christian Dürr\": \"FDP\"}}, inplace=True)\n",
        "\n",
        "df_class_faz.replace({\"Entity\": {\"CDU\": \"UNION\", \"CSU\": \"UNION\", \"CDU/CSU\": \"UNION\", \"Union\": \"UNION\", \"Konservative\": \"UNION\",\n",
        "                                  \"Schwersterparteien\": \"UNION\", \"CDU/CSU-Fraktion im Deutschen Bundestag\": \"UNION\", \"CDU/CSU-Bundestagsfraktion\": \"UNION\", \"Unionsfraktion\": \"UNION\",\n",
        "                                  \"CDU/CSU-Fraktion\": \"UNION\", \"Friedrich Merz\": \"UNION\", \"Markus Söder\": \"UNION\", \"Hendirk Wüst\": \"UNION\",\n",
        "                                  \"Michael Kretschmer\": \"UNION\", \"Rainer Haseloff\": \"UNION\", \"Daniel Günther\": \"UNION\", \"Yvonne Magwas\": \"UNION\", \"Martin Huber\": \"UNION\", \"Mario Czaja\": \"UNION\"}}, inplace=True)\n",
        "\n",
        "df_class_faz.replace({\"Entity\": {\"Die Linke\": \"LINKE\", \"Linkspartei\": \"LINKE\", \"Die Linken\": \"LINKE\", \"Fraktion Die Linke im Bundestag\": \"LINKE\", \"Linksfraktion\": \"LINKE\",\n",
        "                                  \"Fraktion Die Linke\": \"LINKE\", \"Janine Wissler\": \"LINKE\", \"Martin Schirdewan\": \"LINKE\", \"Bodo Ramelow\": \"LINKE\",\n",
        "                                  \"Petra Pau\": \"LINKE\", \"Dietmar Bartsch\": \"LINKE\", \"Amira Mohamed Ali\": \"LINKE\"}}, inplace=True)\n",
        "\n",
        "df_class_faz.replace({\"Entity\": {\"AfD\": \"AFD\", \"Alternative für Deutschland\": \"AFD\", \"AfD-Fraktion im Bundestag\": \"AFD\", \"AfD-Bundestagsfraktion\": \"AFD\", \"AfD-Fraktion\": \"AFD\",\n",
        "                                  \"Tino Chrupalla\": \"AFD\", \"Alice Weidel\": \"AFD\"}}, inplace=True)\n",
        "\n"
      ],
      "metadata": {
        "id": "pZVSNqmv_Mf4"
      },
      "execution_count": null,
      "outputs": []
    },
    {
      "cell_type": "code",
      "execution_count": null,
      "metadata": {
        "id": "t9uhcSQysnGg"
      },
      "outputs": [],
      "source": [
        "freq_senti_gen = df_class_faz.groupby('predicted_label').size()\n",
        "df_freq_senti_gen  = pd.DataFrame(freq_senti_gen )\n",
        "\n",
        "df_freq_senti_gen"
      ]
    },
    {
      "cell_type": "code",
      "execution_count": null,
      "metadata": {
        "id": "xxJAjGpF_q6n"
      },
      "outputs": [],
      "source": [
        "freq_senti_enti = df_class_faz.groupby('Entity')['predicted_label'].value_counts()\n",
        "df_freq_senti_enti = pd.DataFrame(freq_senti_enti)\n",
        "\n",
        "df_freq_senti_enti"
      ]
    }
  ],
  "metadata": {
    "colab": {
      "provenance": []
    },
    "gpuClass": "premium",
    "kernelspec": {
      "display_name": "Python 3",
      "name": "python3"
    },
    "language_info": {
      "name": "python"
    }
  },
  "nbformat": 4,
  "nbformat_minor": 0
}